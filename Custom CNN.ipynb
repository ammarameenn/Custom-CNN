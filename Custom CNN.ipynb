{
 "cells": [
  {
   "cell_type": "markdown",
   "metadata": {},
   "source": [
    "# CS5950/CS4950 Course Project\n",
    "\n",
    "This project recaps and systematises work that has been done in the exercise notebooks: if you have worked through the notebooks, little extra work is required.  The aim of the project is to give you the experience of trying to develop a neural network classifier (or regressor), involving setting up a model, optimising the amount of regularisation, investigating its performance, and devising a new model. \n",
    "\n",
    "You should do your work in this notebook, filling in the sections below. To do the work, you may re-use code from ***any of the lab-session sheets provided so far***. (In fact, you should be able to do nearly the entire project using code taken from previous lab sessions.) \n",
    "\n",
    "Please complete this workbook and submit it on Moodle, with all outputs (numbers and graphs) visible and included. \n",
    "\n",
    "The deadline for this assignment is **Friday April 1th, 10am**\n",
    "\n",
    "This project has **10%** of the marks of the course.\n",
    "\n",
    "student number : **100992058**     "
   ]
  },
  {
   "cell_type": "markdown",
   "metadata": {},
   "source": [
    "## Set up dataset\n",
    "\n",
    "You may choose any of the datasets included with Pytorch, or used in the course so far (including, for example, the percolation data). (It is a free country and you may use any other data you wish.)\n",
    "\n",
    "A safe choice would be either the MNIST data or the MNIST-fashion data, which is a drop-in replacement for MNIST (same size data format, same number of classes, same number of training and test examples). \n",
    "\n",
    "A more interesting choice would be CIFAR-10\n",
    "\n",
    "In setting up the data, you should set up a training set and a test set. The test set should be large enough to give a reasonably accurate assessment of the error-rate (or loss) of your models: preferably at least 10,000 examples.\n",
    "\n",
    "For the learning curve experiment (below), you will need to construct training sets of different sizes, with the largest at least 10 times the smallest. For the MNIST data, for example, your smallest training set might be 500, with sizes 500, 1000, 2000, 4000, 8000, 16000, 32000, and perhaps 60000 if you have time. (You get no extra marks for doing very long experiments.) "
   ]
  },
  {
   "cell_type": "markdown",
   "metadata": {},
   "source": [
    "## Set up model \n",
    "\n",
    "Set up a Pytorch model (you may find it helpful to keep it simple and fast to train). Train on an intermediate-sized dataset (if you are using MNIST, say 2000 or 4000). \n",
    "\n",
    "\n",
    "Plot the loss and error rate as a function of training epochs. \n",
    "\n",
    "\n",
    "###  1.  Assessment of initial model:    ***12 marks***\n",
    "\n",
    "Ensure that your model is complex enough to *overfit* the training data: that is the loss/error-rate on the training set should be below your target loss/error-rate, and the loss/error-rate on the validation set should be higher than this (preferably higher than your target error-rate). "
   ]
  },
  {
   "cell_type": "code",
   "execution_count": 1,
   "metadata": {},
   "outputs": [],
   "source": [
    "import numpy as np\n",
    "import matplotlib.pyplot as plt\n",
    "import matplotlib.cm as cm  # colormaps\n",
    "%matplotlib inline\n",
    "import torch\n",
    "import torch.nn as nn\n",
    "import torch.nn.functional as F\n",
    "import torchvision\n",
    "import torchvision.datasets as datasets\n",
    "from torchvision import transforms\n",
    "from torch.utils.data import DataLoader, random_split\n",
    "import torch.optim as optim "
   ]
  },
  {
   "cell_type": "code",
   "execution_count": 2,
   "metadata": {},
   "outputs": [],
   "source": [
    "transform_list = transforms.Compose([transforms.ToTensor()])\n",
    "mnist_trainset = datasets.MNIST(root='./data', train=True, download=True, transform=transform_list)\n",
    "mnist_testset = datasets.MNIST(root='./data', train=False, download=True, transform=transform_list)"
   ]
  },
  {
   "cell_type": "code",
   "execution_count": 3,
   "metadata": {},
   "outputs": [
    {
     "name": "stdout",
     "output_type": "stream",
     "text": [
      "Dataset MNIST\n",
      "    Number of datapoints: 60000\n",
      "    Root location: ./data\n",
      "    Split: Train\n",
      "    StandardTransform\n",
      "Transform: Compose(\n",
      "               ToTensor()\n",
      "           )\n",
      "Dataset MNIST\n",
      "    Number of datapoints: 10000\n",
      "    Root location: ./data\n",
      "    Split: Test\n",
      "    StandardTransform\n",
      "Transform: Compose(\n",
      "               ToTensor()\n",
      "           )\n"
     ]
    }
   ],
   "source": [
    "print(mnist_trainset)\n",
    "print(mnist_testset)"
   ]
  },
  {
   "cell_type": "code",
   "execution_count": 4,
   "metadata": {},
   "outputs": [],
   "source": [
    "mnist_trainset_small =  [ mnist_trainset[i] for i in range(0,4000)]\n",
    "class NN1( nn.Module ):\n",
    "    \n",
    "    def __init__(self): \n",
    "        super(NN1, self).__init__()\n",
    "        \n",
    "        self.layers = nn.Sequential(\n",
    "            nn.Flatten(start_dim=1), \n",
    "            nn.Linear(784,784),\n",
    "            nn.ReLU(),\n",
    "            nn.Linear(784,10),\n",
    "            nn.Softmax())\n",
    "    \n",
    "    \n",
    "    def forward( self, x ): # computes the forward pass ... this one is particularly simple\n",
    "        x = self.layers( x )\n",
    "        return x"
   ]
  },
  {
   "cell_type": "code",
   "execution_count": 5,
   "metadata": {},
   "outputs": [
    {
     "name": "stdout",
     "output_type": "stream",
     "text": [
      "\n",
      "\n",
      "parameters:\n",
      "[Parameter containing:\n",
      "tensor([[-0.0085, -0.0133, -0.0351,  ...,  0.0236, -0.0335,  0.0295],\n",
      "        [ 0.0092, -0.0282, -0.0348,  ..., -0.0187, -0.0062,  0.0091],\n",
      "        [-0.0035, -0.0130, -0.0286,  ..., -0.0190,  0.0179, -0.0111],\n",
      "        ...,\n",
      "        [ 0.0187, -0.0202, -0.0166,  ...,  0.0140, -0.0145,  0.0045],\n",
      "        [-0.0173, -0.0129, -0.0282,  ...,  0.0287,  0.0005, -0.0076],\n",
      "        [-0.0288,  0.0118,  0.0136,  ...,  0.0117,  0.0214, -0.0313]],\n",
      "       requires_grad=True), Parameter containing:\n",
      "tensor([-2.5359e-02,  1.9467e-02,  1.9523e-02, -1.5550e-02,  2.9818e-02,\n",
      "         2.9631e-02, -3.3870e-02,  2.9677e-02, -1.6983e-02,  1.0526e-02,\n",
      "         2.2451e-03,  2.7906e-02, -8.2311e-03, -1.5930e-03,  8.4813e-03,\n",
      "         3.3275e-02,  3.9898e-03,  4.5537e-03, -2.1168e-02, -7.2864e-03,\n",
      "        -2.7877e-02, -2.7112e-02,  2.7247e-02, -1.2049e-02,  3.0309e-02,\n",
      "        -2.5779e-03,  1.9103e-03,  9.5296e-03,  1.6444e-02,  1.9721e-02,\n",
      "        -3.3551e-02,  1.4403e-02, -1.8016e-02, -1.1507e-02,  1.0640e-02,\n",
      "         4.3806e-03,  3.0587e-03,  3.3200e-03,  8.8514e-03, -6.3264e-03,\n",
      "         8.9804e-03,  2.8501e-02, -3.4539e-02,  1.9743e-02,  1.4835e-02,\n",
      "        -6.8345e-03,  1.2785e-02,  2.3392e-02, -2.8485e-02, -1.1893e-02,\n",
      "         1.5113e-02,  1.5962e-02,  9.9642e-03,  6.5954e-04,  3.3117e-02,\n",
      "         2.2708e-02,  2.1644e-02, -2.6835e-02,  8.2264e-03, -1.2794e-02,\n",
      "         1.3269e-02, -2.6615e-02,  2.9980e-02,  3.3773e-02,  2.1818e-02,\n",
      "         1.7495e-02, -1.7239e-02,  1.4978e-02, -3.4123e-02,  2.8202e-02,\n",
      "        -8.2193e-03,  3.4931e-02, -2.0526e-02,  1.6225e-03, -3.1827e-02,\n",
      "        -3.2684e-02, -1.7838e-03, -3.5365e-02, -1.6537e-02, -9.2223e-03,\n",
      "        -6.4460e-03,  1.1242e-02,  1.2479e-02,  3.1031e-02, -2.8104e-02,\n",
      "        -2.8431e-02, -1.1551e-02, -1.9666e-02, -8.2780e-03,  1.8227e-02,\n",
      "        -2.3012e-02, -2.9594e-02, -3.2070e-02,  3.2216e-03, -7.3496e-04,\n",
      "        -3.1246e-02,  6.3469e-03,  6.4832e-03,  2.5511e-03,  2.6530e-02,\n",
      "        -6.7366e-03,  3.1278e-02,  3.4808e-03, -3.5251e-02, -2.2568e-02,\n",
      "        -3.4912e-02,  2.9764e-02, -1.2165e-02,  1.4597e-02,  1.4486e-02,\n",
      "        -1.8437e-02, -8.6622e-03, -1.9392e-02,  2.9665e-02,  2.1738e-02,\n",
      "         2.8852e-02, -2.5204e-02, -6.6916e-03,  8.9180e-05,  3.3918e-02,\n",
      "        -2.5163e-02,  7.4713e-03,  5.4843e-04, -1.7870e-02, -2.4721e-02,\n",
      "         2.1142e-02, -1.4290e-02,  7.3864e-03,  1.0931e-02,  3.4757e-02,\n",
      "         2.4653e-02, -3.0459e-02,  3.0728e-02, -1.0124e-02, -3.4781e-02,\n",
      "         2.6288e-02,  1.9199e-02,  1.5280e-02, -1.1757e-02,  1.4311e-03,\n",
      "        -1.6358e-02, -4.9165e-03, -1.3117e-02,  2.4862e-02,  3.3089e-02,\n",
      "         5.4718e-03, -1.2327e-02,  2.4973e-02, -3.1125e-03, -2.9562e-02,\n",
      "         7.4969e-03, -1.7723e-02,  3.1614e-03, -7.0047e-04,  2.3252e-02,\n",
      "         3.4161e-02,  1.2562e-02, -3.2395e-02, -1.2198e-03,  3.3576e-02,\n",
      "        -1.3815e-04, -1.7347e-02, -7.3775e-03, -3.3398e-02,  1.9889e-02,\n",
      "        -2.5630e-02,  1.9122e-02, -4.3324e-03,  2.9148e-02,  2.4140e-02,\n",
      "        -2.4469e-02,  4.2575e-03,  7.0337e-03, -2.9497e-02, -3.4822e-03,\n",
      "         2.8998e-02,  1.6597e-02,  1.0825e-02, -1.2896e-03, -6.5048e-03,\n",
      "        -2.5394e-02, -1.4821e-02,  1.1830e-02, -1.4618e-02,  2.3698e-03,\n",
      "         6.6283e-03, -2.0303e-02,  1.0157e-02,  3.3784e-02,  1.8324e-03,\n",
      "         1.4117e-02,  2.3755e-03,  2.7937e-02,  3.0701e-03,  1.8353e-02,\n",
      "        -2.6264e-02, -2.5187e-02, -2.7627e-02,  2.5445e-02, -8.5909e-03,\n",
      "        -2.0536e-02,  3.4201e-02,  5.8963e-03, -2.2961e-03, -2.5877e-02,\n",
      "         3.0105e-02, -2.1427e-02,  1.0300e-02,  1.4941e-02, -8.2694e-03,\n",
      "        -3.0915e-02, -2.0896e-02,  1.2342e-02,  2.6803e-02, -2.7918e-02,\n",
      "         1.1127e-03, -1.3771e-02,  6.6840e-03, -1.1742e-02, -2.4248e-02,\n",
      "         2.3885e-02, -3.4762e-02,  3.1164e-02, -2.1920e-02, -3.4670e-02,\n",
      "        -1.4396e-02,  2.6921e-02, -1.3663e-02,  1.4332e-02, -2.7247e-02,\n",
      "         2.9353e-02, -1.7639e-02, -3.0293e-02,  3.2263e-02,  1.2463e-02,\n",
      "        -1.6799e-03, -2.1687e-02, -1.7601e-02, -2.5345e-02, -3.0841e-02,\n",
      "         2.5219e-02, -1.3468e-02,  3.1273e-02,  1.6045e-02, -1.2923e-02,\n",
      "         3.3650e-02, -6.1613e-03, -3.2262e-02,  2.9150e-02,  1.3278e-02,\n",
      "         1.6601e-02, -2.3749e-02, -1.3338e-02,  2.0766e-02, -1.5593e-02,\n",
      "        -1.3665e-02, -2.2653e-02, -3.5118e-02, -2.1047e-02, -4.3943e-03,\n",
      "         2.0130e-03, -1.6754e-02, -2.6610e-02,  1.4292e-02,  2.8396e-02,\n",
      "        -2.2222e-02,  1.2179e-02, -1.1012e-02, -9.2781e-03,  2.9975e-02,\n",
      "         1.8284e-02, -5.5776e-03, -2.2303e-02, -1.2932e-02,  1.2560e-02,\n",
      "         3.0546e-02,  2.4025e-02,  1.2816e-02,  1.6981e-02, -5.9484e-03,\n",
      "        -9.7109e-03,  1.8560e-02,  2.2831e-03,  1.3789e-02,  1.7665e-02,\n",
      "        -3.2541e-02, -1.5950e-02, -3.5152e-02,  2.7363e-02, -7.1559e-03,\n",
      "        -9.2401e-03,  2.7533e-02,  1.1376e-03,  2.2915e-02, -1.6651e-03,\n",
      "         1.2296e-02, -2.9535e-02, -4.3405e-03,  1.2102e-02, -5.0078e-03,\n",
      "         3.3795e-02,  1.5613e-02, -2.8379e-02, -3.5180e-02, -2.6840e-02,\n",
      "         1.6006e-03, -8.4052e-03,  9.9806e-03,  1.4946e-02,  4.2288e-03,\n",
      "        -1.8751e-02,  1.3151e-02,  2.3064e-04, -3.1568e-02, -3.5665e-03,\n",
      "         1.2843e-02,  7.2333e-04,  3.5558e-02, -1.6242e-02,  1.5431e-02,\n",
      "        -1.1231e-02, -2.0456e-02,  3.2351e-02,  1.2690e-02, -3.0001e-02,\n",
      "         3.2711e-02,  1.7248e-02, -1.7596e-02,  2.9994e-02,  2.8601e-02,\n",
      "         4.2388e-03, -1.8824e-02, -6.5334e-03,  1.3232e-02,  1.0240e-02,\n",
      "        -1.4666e-02, -9.2744e-04, -3.2535e-02, -6.6867e-03, -3.0081e-02,\n",
      "         2.1360e-02, -8.4267e-03, -2.8228e-02, -5.7192e-03, -5.8274e-03,\n",
      "         2.7925e-02, -2.4827e-02, -2.2864e-02, -3.4061e-02, -7.6191e-04,\n",
      "        -3.0770e-02,  1.1089e-02, -7.4400e-03,  1.8041e-02,  1.7741e-03,\n",
      "        -1.2050e-02,  7.7145e-03, -2.7116e-02, -2.1064e-02, -5.2730e-03,\n",
      "        -2.1902e-02,  1.7314e-02,  1.1957e-02, -6.5963e-03,  1.8084e-03,\n",
      "         2.2069e-02,  1.4266e-02,  1.7622e-02, -9.9625e-03, -3.3496e-02,\n",
      "         1.0176e-02,  1.4620e-02,  1.1572e-02,  2.4439e-03,  2.1600e-02,\n",
      "         1.7993e-02, -2.0748e-02, -2.7965e-02,  1.5824e-02, -3.0396e-02,\n",
      "         2.2299e-03, -6.6360e-03, -1.5772e-02, -5.7844e-03,  4.6115e-03,\n",
      "        -1.8842e-02,  9.5077e-03,  1.4634e-02,  1.0929e-02, -4.3371e-03,\n",
      "        -1.0786e-02, -4.5850e-03,  1.4003e-02, -1.4917e-02, -7.5255e-03,\n",
      "         2.6411e-02, -1.6897e-02, -2.0787e-02, -2.8683e-02, -1.3717e-02,\n",
      "         9.9957e-03,  3.0803e-02,  3.2683e-02, -2.9927e-02, -5.6758e-03,\n",
      "        -8.9096e-03, -1.1252e-02,  6.7458e-03,  1.8269e-02, -3.5665e-03,\n",
      "         2.5199e-02,  1.1989e-03,  3.4857e-04, -2.7604e-02, -2.3597e-02,\n",
      "        -1.0154e-02,  2.2894e-02, -1.5672e-03, -1.6776e-02, -2.2235e-02,\n",
      "         1.5157e-02, -9.4821e-03,  2.5477e-02,  1.5996e-02,  2.5441e-02,\n",
      "         2.0888e-02, -8.4401e-03, -2.1163e-02, -2.5541e-02,  1.1545e-02,\n",
      "        -1.8282e-02, -1.3286e-02, -6.8156e-04, -9.9245e-04, -2.7177e-02,\n",
      "        -5.8954e-03,  2.3308e-02,  6.6668e-03,  2.4402e-02,  3.2657e-03,\n",
      "        -6.9814e-04, -3.3274e-02, -3.3504e-02, -1.8900e-02,  7.6693e-03,\n",
      "         3.1262e-02, -2.4637e-02, -2.0695e-02,  1.8893e-03,  2.0369e-02,\n",
      "        -2.2607e-02, -1.9365e-02, -2.2328e-02,  3.2788e-02,  1.1669e-02,\n",
      "         1.2780e-02, -3.3616e-02,  2.6240e-02, -1.5416e-02, -2.3480e-02,\n",
      "         1.2168e-02,  2.7094e-02,  8.9403e-05,  2.4876e-02,  2.1270e-02,\n",
      "        -2.1679e-02,  2.5756e-02,  8.8949e-03, -2.0286e-02,  3.5329e-02,\n",
      "        -3.2645e-02, -7.7129e-03, -5.0020e-03, -8.3305e-03, -1.9410e-02,\n",
      "        -3.4466e-02, -5.7011e-03,  1.6952e-02,  2.9815e-02, -2.4123e-02,\n",
      "         3.4807e-02,  7.4720e-03,  2.0577e-02, -1.4576e-02,  3.4701e-03,\n",
      "        -8.2466e-04, -7.6994e-03, -1.9591e-02,  3.2992e-02, -3.4000e-02,\n",
      "         2.3486e-02, -2.6087e-02,  1.9317e-02,  2.2964e-02,  1.1637e-02,\n",
      "         8.8655e-03,  3.4629e-02,  3.9113e-03, -2.2239e-02,  1.7756e-02,\n",
      "         2.3099e-03, -2.0649e-03,  2.2286e-02,  2.2254e-02,  1.2007e-02,\n",
      "         2.2753e-02,  3.0433e-02, -9.8777e-03, -1.5666e-02,  2.1203e-03,\n",
      "         1.9979e-02, -9.3322e-03,  1.7318e-02, -1.3938e-02,  2.3303e-02,\n",
      "         1.5659e-02,  1.4793e-02,  3.0614e-02,  7.1895e-03, -1.1287e-02,\n",
      "        -2.5699e-03,  3.1441e-02,  1.0887e-02,  3.9116e-03, -3.2820e-02,\n",
      "        -3.2084e-02,  8.8294e-03, -4.4312e-03, -3.5541e-02, -2.3218e-02,\n",
      "         1.5098e-02,  3.4566e-02, -2.5963e-02, -3.2698e-02, -2.8684e-02,\n",
      "         3.1737e-02, -2.8491e-02,  7.2218e-03, -1.8343e-02,  2.9917e-02,\n",
      "        -2.3976e-02, -8.1732e-03,  5.5156e-03, -5.9412e-03, -2.5604e-02,\n",
      "        -3.0379e-02, -1.2486e-02,  3.5491e-03, -6.0611e-03,  1.9173e-03,\n",
      "         2.4987e-02, -1.5176e-02, -1.0292e-02,  2.1253e-02,  1.4244e-02,\n",
      "        -2.4851e-02, -1.7273e-02, -1.3966e-03, -2.7732e-02, -2.2924e-02,\n",
      "         2.8227e-02,  2.1998e-02, -5.7338e-03, -2.3306e-02,  1.9504e-02,\n",
      "         2.4192e-02,  3.0422e-02,  1.5127e-02, -2.7939e-02,  1.9148e-02,\n",
      "         7.1457e-03,  8.1158e-03,  2.5657e-03,  9.4373e-03, -1.2424e-02,\n",
      "        -1.2114e-02,  1.6386e-02,  2.6933e-02, -2.7987e-02,  2.5975e-02,\n",
      "        -1.1467e-02, -3.5584e-02,  3.2064e-02,  3.3173e-02,  4.1724e-04,\n",
      "        -6.4944e-03, -1.4906e-02,  1.3707e-02, -3.0215e-04, -9.7887e-04,\n",
      "         8.6727e-03, -3.1597e-02,  7.2431e-03,  2.6482e-02,  2.8563e-02,\n",
      "        -1.9663e-02, -3.5568e-03, -3.0454e-02, -3.5537e-02, -4.3445e-03,\n",
      "        -3.3531e-02,  1.0180e-02,  2.1449e-02, -2.8332e-02,  1.1494e-02,\n",
      "        -3.0195e-02,  1.4607e-02,  1.4925e-02, -1.1811e-02, -1.5048e-02,\n",
      "        -3.4126e-02, -2.5934e-02,  1.2857e-02, -2.6457e-02,  2.2761e-02,\n",
      "        -2.9523e-02, -2.2594e-03,  3.1666e-02, -2.8154e-02, -1.8169e-02,\n",
      "         2.0550e-02, -6.1674e-03, -2.9965e-02,  2.5209e-02,  3.5309e-02,\n",
      "         3.3185e-02, -7.0589e-03, -1.8840e-02, -1.6514e-02,  1.9370e-03,\n",
      "        -2.8956e-02,  6.2612e-03, -2.1613e-02,  9.8856e-03,  2.6127e-02,\n",
      "         9.1047e-03,  9.3098e-04, -1.9413e-02,  6.6248e-03,  2.5924e-02,\n",
      "         1.1533e-02,  2.9897e-02,  2.5181e-02, -3.4805e-02, -3.0278e-02,\n",
      "         5.9353e-03,  3.4367e-02, -9.9105e-04, -5.2630e-03,  1.2174e-02,\n",
      "         1.3884e-02,  2.5135e-02, -3.0710e-02, -2.4508e-02, -2.1595e-02,\n",
      "         8.4590e-03,  1.5661e-03,  1.7962e-02, -8.3691e-03,  1.5341e-02,\n",
      "         3.1323e-03, -1.4759e-02, -1.7785e-02, -1.5544e-02, -6.8149e-03,\n",
      "         3.0619e-02, -6.2162e-03,  1.4972e-02,  1.7320e-03,  2.9119e-02,\n",
      "        -3.3572e-02, -1.9405e-02,  2.9198e-02,  1.7186e-02,  1.0071e-02,\n",
      "         2.7130e-02,  8.9119e-03, -6.0715e-03,  2.9408e-02, -1.1921e-02,\n",
      "        -1.1146e-02,  2.0500e-02, -3.3574e-02, -3.4020e-02, -8.0638e-03,\n",
      "        -2.5451e-02,  2.0334e-02,  3.5090e-02,  1.5815e-02, -3.3014e-02,\n",
      "         2.6174e-03,  3.5234e-02, -1.6767e-02, -1.4977e-02, -1.9021e-02,\n",
      "        -1.0030e-02,  2.7118e-02, -2.2424e-02,  3.2665e-02,  3.2655e-03,\n",
      "         2.5260e-02,  2.9094e-02,  3.3142e-02,  2.4140e-02, -3.3897e-02,\n",
      "         2.2778e-02,  2.3878e-03, -1.9127e-02,  3.2273e-02, -3.3265e-02,\n",
      "         1.5053e-03,  2.2408e-02,  2.7992e-02, -9.9209e-04,  1.7075e-02,\n",
      "         1.8876e-03, -2.8099e-02,  2.6799e-02, -3.1316e-02,  2.7247e-02,\n",
      "        -9.8193e-03,  8.4674e-03,  2.6830e-02, -4.8385e-03,  9.3791e-03,\n",
      "         1.4199e-02, -1.2006e-02,  2.9510e-02, -2.3695e-03,  7.0595e-04,\n",
      "         9.7947e-03, -3.1299e-02,  2.4529e-02, -2.9502e-02, -1.9261e-02,\n",
      "         2.2784e-02,  2.3488e-02, -2.4866e-02, -1.7560e-02, -3.7405e-04,\n",
      "        -2.9377e-02,  3.1939e-02,  2.4693e-02, -7.3932e-04,  2.2299e-02,\n",
      "         2.9781e-02, -3.6426e-03,  2.3839e-02,  3.3379e-02, -1.6861e-02,\n",
      "        -2.5548e-02, -3.1374e-02, -1.2692e-02,  1.0649e-02, -1.1804e-02,\n",
      "        -2.0595e-02,  2.2401e-02, -8.4716e-04, -1.8254e-02, -2.5247e-02,\n",
      "         2.6981e-02,  1.6745e-02,  1.4256e-02,  2.9848e-02,  2.0903e-02,\n",
      "        -1.4613e-02,  5.6129e-03, -3.0817e-02, -1.1247e-02,  4.8850e-03,\n",
      "        -2.5626e-02,  2.2522e-02,  9.1406e-03,  5.8759e-04, -2.6601e-02,\n",
      "        -2.8015e-02,  1.5966e-02, -1.1168e-02,  2.1226e-02,  3.3520e-02,\n",
      "         3.0869e-02,  1.2733e-02, -1.0072e-02, -2.1886e-03],\n",
      "       requires_grad=True), Parameter containing:\n",
      "tensor([[-0.0192,  0.0254, -0.0284,  ..., -0.0164, -0.0315, -0.0019],\n",
      "        [ 0.0166,  0.0235,  0.0328,  ...,  0.0142,  0.0291,  0.0153],\n",
      "        [-0.0330, -0.0060,  0.0325,  ..., -0.0008, -0.0283,  0.0265],\n",
      "        ...,\n",
      "        [-0.0322, -0.0257,  0.0140,  ..., -0.0333,  0.0338,  0.0258],\n",
      "        [-0.0112,  0.0319, -0.0079,  ..., -0.0244,  0.0148,  0.0072],\n",
      "        [ 0.0024, -0.0251,  0.0326,  ..., -0.0221,  0.0222,  0.0330]],\n",
      "       requires_grad=True), Parameter containing:\n",
      "tensor([ 0.0198,  0.0242,  0.0041, -0.0077,  0.0286, -0.0070, -0.0250, -0.0066,\n",
      "         0.0284, -0.0232], requires_grad=True)]\n"
     ]
    }
   ],
   "source": [
    "nn1= NN1()\n",
    "print(\"\\n\\nparameters:\")\n",
    "params = [ p for p in nn1.parameters() ]\n",
    "print(params)"
   ]
  },
  {
   "cell_type": "code",
   "execution_count": 6,
   "metadata": {},
   "outputs": [
    {
     "name": "stdout",
     "output_type": "stream",
     "text": [
      "\n",
      "\n",
      "Forward Pass Values:\n",
      "tensor([[0.1108, 0.1006, 0.1087, 0.0944, 0.0989, 0.1033, 0.0892, 0.0957, 0.1040,\n",
      "         0.0943]], grad_fn=<SoftmaxBackward0>)\n"
     ]
    },
    {
     "name": "stderr",
     "output_type": "stream",
     "text": [
      "C:\\ProgramData\\Anaconda3\\lib\\site-packages\\torch\\nn\\modules\\container.py:141: UserWarning: Implicit dimension choice for softmax has been deprecated. Change the call to include dim=X as an argument.\n",
      "  input = module(input)\n"
     ]
    }
   ],
   "source": [
    "print(\"\\n\\nForward Pass Values:\")\n",
    "tmp = nn1.forward( mnist_trainset[0][0])\n",
    "print(tmp)"
   ]
  },
  {
   "cell_type": "code",
   "execution_count": 7,
   "metadata": {},
   "outputs": [],
   "source": [
    "loss_function = nn.CrossEntropyLoss()"
   ]
  },
  {
   "cell_type": "code",
   "execution_count": 8,
   "metadata": {},
   "outputs": [
    {
     "name": "stdout",
     "output_type": "stream",
     "text": [
      "Epoch 1 loss: 1.775 Accuracy on train set: 70 %\n",
      "Epoch 2 loss: 1.562 Accuracy on train set: 91 %\n",
      "Epoch 3 loss: 1.531 Accuracy on train set: 94 %\n",
      "Epoch 4 loss: 1.515 Accuracy on train set: 95 %\n",
      "Epoch 5 loss: 1.504 Accuracy on train set: 96 %\n",
      "Epoch 6 loss: 1.497 Accuracy on train set: 97 %\n",
      "Epoch 7 loss: 1.491 Accuracy on train set: 97 %\n",
      "Epoch 8 loss: 1.487 Accuracy on train set: 97 %\n",
      "Epoch 9 loss: 1.485 Accuracy on train set: 97 %\n",
      "Epoch 10 loss: 1.482 Accuracy on train set: 98 %\n",
      "Epoch 11 loss: 1.481 Accuracy on train set: 98 %\n",
      "Epoch 12 loss: 1.480 Accuracy on train set: 98 %\n",
      "Epoch 13 loss: 1.480 Accuracy on train set: 98 %\n",
      "Epoch 14 loss: 1.482 Accuracy on train set: 98 %\n",
      "Epoch 15 loss: 1.477 Accuracy on train set: 98 %\n",
      "Epoch 16 loss: 1.476 Accuracy on train set: 98 %\n",
      "Epoch 17 loss: 1.477 Accuracy on train set: 98 %\n",
      "Epoch 18 loss: 1.481 Accuracy on train set: 98 %\n",
      "Epoch 19 loss: 1.475 Accuracy on train set: 98 %\n",
      "Epoch 20 loss: 1.474 Accuracy on train set: 98 %\n",
      "Epoch 21 loss: 1.474 Accuracy on train set: 98 %\n",
      "Epoch 22 loss: 1.476 Accuracy on train set: 98 %\n",
      "Epoch 23 loss: 1.474 Accuracy on train set: 98 %\n",
      "Epoch 24 loss: 1.473 Accuracy on train set: 98 %\n",
      "Epoch 25 loss: 1.474 Accuracy on train set: 98 %\n",
      "Epoch 26 loss: 1.472 Accuracy on train set: 98 %\n",
      "Epoch 27 loss: 1.476 Accuracy on train set: 98 %\n",
      "Epoch 28 loss: 1.472 Accuracy on train set: 98 %\n",
      "Epoch 29 loss: 1.473 Accuracy on train set: 98 %\n",
      "Epoch 30 loss: 1.471 Accuracy on train set: 98 %\n",
      "Epoch 31 loss: 1.471 Accuracy on train set: 98 %\n",
      "Epoch 32 loss: 1.472 Accuracy on train set: 98 %\n",
      "Epoch 33 loss: 1.472 Accuracy on train set: 98 %\n",
      "Epoch 34 loss: 1.473 Accuracy on train set: 98 %\n",
      "Epoch 35 loss: 1.473 Accuracy on train set: 98 %\n",
      "Epoch 36 loss: 1.472 Accuracy on train set: 98 %\n",
      "Epoch 37 loss: 1.472 Accuracy on train set: 98 %\n",
      "Epoch 38 loss: 1.471 Accuracy on train set: 99 %\n",
      "Epoch 39 loss: 1.471 Accuracy on train set: 99 %\n",
      "Epoch 40 loss: 1.474 Accuracy on train set: 98 %\n",
      "Epoch 41 loss: 1.471 Accuracy on train set: 99 %\n",
      "Epoch 42 loss: 1.471 Accuracy on train set: 99 %\n",
      "Epoch 43 loss: 1.471 Accuracy on train set: 99 %\n",
      "Epoch 44 loss: 1.471 Accuracy on train set: 99 %\n",
      "Epoch 45 loss: 1.473 Accuracy on train set: 98 %\n",
      "Epoch 46 loss: 1.472 Accuracy on train set: 98 %\n",
      "Epoch 47 loss: 1.471 Accuracy on train set: 99 %\n",
      "Epoch 48 loss: 1.471 Accuracy on train set: 99 %\n",
      "Epoch 49 loss: 1.471 Accuracy on train set: 99 %\n",
      "Epoch 50 loss: 1.472 Accuracy on train set: 98 %\n",
      "Epoch 51 loss: 1.471 Accuracy on train set: 99 %\n",
      "Epoch 52 loss: 1.471 Accuracy on train set: 99 %\n",
      "Epoch 53 loss: 1.471 Accuracy on train set: 99 %\n",
      "Epoch 54 loss: 1.474 Accuracy on train set: 98 %\n",
      "Epoch 55 loss: 1.471 Accuracy on train set: 99 %\n",
      "Epoch 56 loss: 1.471 Accuracy on train set: 99 %\n",
      "Epoch 57 loss: 1.471 Accuracy on train set: 99 %\n",
      "Epoch 58 loss: 1.471 Accuracy on train set: 99 %\n",
      "Epoch 59 loss: 1.471 Accuracy on train set: 99 %\n",
      "Epoch 60 loss: 1.472 Accuracy on train set: 98 %\n",
      "Epoch 61 loss: 1.471 Accuracy on train set: 99 %\n",
      "Epoch 62 loss: 1.471 Accuracy on train set: 99 %\n",
      "Epoch 63 loss: 1.472 Accuracy on train set: 98 %\n",
      "Epoch 64 loss: 1.471 Accuracy on train set: 99 %\n",
      "Epoch 65 loss: 1.471 Accuracy on train set: 99 %\n",
      "Epoch 66 loss: 1.471 Accuracy on train set: 99 %\n",
      "Epoch 67 loss: 1.470 Accuracy on train set: 99 %\n",
      "Epoch 68 loss: 1.472 Accuracy on train set: 98 %\n",
      "Epoch 69 loss: 1.470 Accuracy on train set: 99 %\n",
      "Epoch 70 loss: 1.470 Accuracy on train set: 99 %\n",
      "Epoch 71 loss: 1.470 Accuracy on train set: 99 %\n",
      "Epoch 72 loss: 1.471 Accuracy on train set: 99 %\n",
      "Epoch 73 loss: 1.470 Accuracy on train set: 99 %\n",
      "Epoch 74 loss: 1.470 Accuracy on train set: 99 %\n",
      "Epoch 75 loss: 1.470 Accuracy on train set: 99 %\n",
      "Epoch 76 loss: 1.471 Accuracy on train set: 99 %\n",
      "Epoch 77 loss: 1.470 Accuracy on train set: 99 %\n",
      "Epoch 78 loss: 1.470 Accuracy on train set: 99 %\n",
      "Epoch 79 loss: 1.470 Accuracy on train set: 99 %\n",
      "Epoch 80 loss: 1.470 Accuracy on train set: 99 %\n",
      "Epoch 81 loss: 1.470 Accuracy on train set: 99 %\n",
      "Epoch 82 loss: 1.470 Accuracy on train set: 99 %\n",
      "Epoch 83 loss: 1.470 Accuracy on train set: 99 %\n",
      "Epoch 84 loss: 1.470 Accuracy on train set: 99 %\n",
      "Epoch 85 loss: 1.470 Accuracy on train set: 99 %\n",
      "Epoch 86 loss: 1.470 Accuracy on train set: 99 %\n",
      "Epoch 87 loss: 1.470 Accuracy on train set: 99 %\n",
      "Epoch 88 loss: 1.469 Accuracy on train set: 99 %\n",
      "Epoch 89 loss: 1.469 Accuracy on train set: 99 %\n",
      "Epoch 90 loss: 1.470 Accuracy on train set: 99 %\n",
      "Epoch 91 loss: 1.470 Accuracy on train set: 99 %\n",
      "Epoch 92 loss: 1.469 Accuracy on train set: 99 %\n",
      "Epoch 93 loss: 1.469 Accuracy on train set: 99 %\n",
      "Epoch 94 loss: 1.469 Accuracy on train set: 99 %\n",
      "Epoch 95 loss: 1.469 Accuracy on train set: 99 %\n",
      "Epoch 96 loss: 1.470 Accuracy on train set: 99 %\n",
      "Epoch 97 loss: 1.469 Accuracy on train set: 99 %\n",
      "Epoch 98 loss: 1.469 Accuracy on train set: 99 %\n",
      "Epoch 99 loss: 1.469 Accuracy on train set: 99 %\n",
      "Epoch 100 loss: 1.469 Accuracy on train set: 99 %\n"
     ]
    }
   ],
   "source": [
    "trainloader = torch.utils.data.DataLoader( mnist_trainset_small, batch_size=52, shuffle=False)\n",
    "testloader = torch.utils.data.DataLoader( mnist_testset, batch_size=52, shuffle=False)\n",
    "\n",
    "optimizer1 = optim.RMSprop( nn1.parameters(), lr=0.001 )\n",
    "losslist1 = []\n",
    "errorlist1 = []\n",
    "for epoch in range(100):\n",
    "    current_loss = 0.0 \n",
    "    n_mini_batches = 0\n",
    "    correct = 0 \n",
    "    total = 0\n",
    "    \n",
    "    for i, mini_batch in enumerate( trainloader, 0 ):\n",
    "        images, labels = mini_batch\n",
    "        optimizer1.zero_grad()\n",
    "        \n",
    "        outputs = nn1(images)\n",
    "        loss = loss_function ( outputs, labels )\n",
    "        loss.backward() \n",
    "        optimizer1.step()\n",
    "        \n",
    "        n_mini_batches += 1 \n",
    "        current_loss += loss.item()\n",
    "        _, predicted = torch.max( outputs, dim=1)\n",
    "        total += labels.size(0)  \n",
    "        correct += (predicted == labels).sum().item()\n",
    "    loss1=current_loss / n_mini_batches\n",
    "    losslist1.append(loss1)\n",
    "    error1 = (100*(1-(correct/total)))\n",
    "    errorlist1.append(error1)\n",
    "    print('Epoch %d loss: %.3f Accuracy on train set: %d %%' %(epoch+1, current_loss / n_mini_batches,100 * correct/total ))"
   ]
  },
  {
   "cell_type": "code",
   "execution_count": 9,
   "metadata": {},
   "outputs": [
    {
     "name": "stdout",
     "output_type": "stream",
     "text": [
      "[1.7747599552204083, 1.561807781070858, 1.530821112843303, 1.5150686858536362, 1.5043234159420062, 1.4965523961302523, 1.4912413544469065, 1.4869883339126388, 1.4848782799460671, 1.4816290109188526, 1.4805965764181954, 1.4803181809264343, 1.479550579925636, 1.4821316050244617, 1.4773393575247231, 1.4759888045199505, 1.4766131500145057, 1.4806569551492665, 1.4750071392430888, 1.474147604657458, 1.4739792192137087, 1.4759189416835834, 1.4742081242722351, 1.4726280995777674, 1.4736242867135383, 1.4717316689429345, 1.476040895883139, 1.4719490184412374, 1.4725885979540936, 1.4714082200805862, 1.4713310746403483, 1.4715116751658452, 1.4715335291701477, 1.4732173526441896, 1.4729721066239592, 1.4718746566153191, 1.4721267610401303, 1.4710904824269282, 1.4711092927239158, 1.4741377551834305, 1.4712503312470078, 1.471110751102497, 1.4711025705585232, 1.4710999603395338, 1.4733050303025679, 1.4721371337964937, 1.471012849312324, 1.470997418676104, 1.4708332504544939, 1.4719897663438475, 1.4708944822286631, 1.4708517604059987, 1.4708638346040404, 1.4736091455855926, 1.4707849892702969, 1.4705856961089294, 1.4709871945443092, 1.4705849916904004, 1.4708662095007958, 1.4715140578034636, 1.47060624655191, 1.4706238817859005, 1.4715742259830624, 1.4709407168549378, 1.4714413571667362, 1.4710384406052626, 1.4701311433470095, 1.4715673381632024, 1.469852435124385, 1.4698615832762285, 1.4698536736624581, 1.470775463364341, 1.4702463180987866, 1.4698544291706828, 1.470301934650966, 1.471322877066476, 1.4702213305931586, 1.4695907645411306, 1.4695956691519005, 1.4696262517532745, 1.4699874357743696, 1.4700971996629393, 1.4704578216973838, 1.4699084758758545, 1.4696300122644994, 1.4697977691501767, 1.4695865612525445, 1.4693611829311817, 1.4693831344703576, 1.4699404378990075, 1.4699929627505215, 1.4691595907335158, 1.4691238542655847, 1.4691384132806358, 1.469136077088195, 1.469603502905214, 1.4691357488756056, 1.4691225383188817, 1.4694419557398015, 1.4691231544915733]\n"
     ]
    }
   ],
   "source": [
    "print(losslist1)"
   ]
  },
  {
   "cell_type": "code",
   "execution_count": 10,
   "metadata": {},
   "outputs": [
    {
     "name": "stdout",
     "output_type": "stream",
     "text": [
      "[29.674999999999997, 8.674999999999999, 5.974999999999997, 4.449999999999998, 3.5250000000000004, 2.925, 2.5499999999999967, 2.200000000000002, 2.0499999999999963, 1.8000000000000016, 1.7000000000000015, 1.7750000000000044, 1.7000000000000015, 1.9499999999999962, 1.5000000000000013, 1.4499999999999957, 1.5000000000000013, 1.8000000000000016, 1.3249999999999984, 1.275000000000004, 1.2499999999999956, 1.375000000000004, 1.2249999999999983, 1.1499999999999955, 1.2249999999999983, 1.0499999999999954, 1.4499999999999957, 1.0499999999999954, 1.1249999999999982, 1.0249999999999981, 1.0249999999999981, 1.0499999999999954, 1.0249999999999981, 1.1750000000000038, 1.1249999999999982, 1.0499999999999954, 1.0750000000000037, 1.0000000000000009, 1.0000000000000009, 1.275000000000004, 1.0000000000000009, 1.0000000000000009, 1.0000000000000009, 1.0000000000000009, 1.1750000000000038, 1.0750000000000037, 0.9750000000000036, 1.0000000000000009, 0.9750000000000036, 1.0499999999999954, 0.9750000000000036, 0.9750000000000036, 0.9750000000000036, 1.200000000000001, 0.9499999999999953, 0.9499999999999953, 1.0000000000000009, 0.9499999999999953, 0.9750000000000036, 1.0249999999999981, 0.9499999999999953, 0.9499999999999953, 1.0249999999999981, 0.9750000000000036, 1.0000000000000009, 1.0000000000000009, 0.9000000000000008, 1.0249999999999981, 0.8750000000000036, 0.8750000000000036, 0.8750000000000036, 0.9499999999999953, 0.9000000000000008, 0.8750000000000036, 0.924999999999998, 0.9750000000000036, 0.9000000000000008, 0.8499999999999952, 0.8499999999999952, 0.8499999999999952, 0.9000000000000008, 0.8750000000000036, 0.924999999999998, 0.8750000000000036, 0.8499999999999952, 0.8499999999999952, 0.8499999999999952, 0.824999999999998, 0.824999999999998, 0.8750000000000036, 0.8750000000000036, 0.8000000000000007, 0.8000000000000007, 0.8000000000000007, 0.8000000000000007, 0.824999999999998, 0.8000000000000007, 0.8000000000000007, 0.824999999999998, 0.8000000000000007]\n"
     ]
    }
   ],
   "source": [
    "print(errorlist1)"
   ]
  },
  {
   "cell_type": "code",
   "execution_count": 11,
   "metadata": {},
   "outputs": [
    {
     "name": "stdout",
     "output_type": "stream",
     "text": [
      "Accuracy on Test set: 94 %\n"
     ]
    }
   ],
   "source": [
    "correct = 0 \n",
    "total = 0 \n",
    "with torch.no_grad():  # we do not neet to compute the gradients when making predictions on the validation set\n",
    "    for data in testloader: \n",
    "        images, labels = data\n",
    "        outputs = nn1(images)\n",
    "        _, predicted = torch.max( outputs, dim=1)\n",
    "        total += labels.size(0)  \n",
    "        correct += (predicted == labels).sum().item() \n",
    "print( \"Accuracy on Test set: %d %%\" %(100 * correct/total))"
   ]
  },
  {
   "cell_type": "code",
   "execution_count": 12,
   "metadata": {},
   "outputs": [
    {
     "data": {
      "text/plain": [
       "[<matplotlib.lines.Line2D at 0x19a55166070>]"
      ]
     },
     "execution_count": 12,
     "metadata": {},
     "output_type": "execute_result"
    },
    {
     "data": {
      "image/png": "[encoded data removed]",
      "text/plain": [
       "<Figure size 432x288 with 1 Axes>"
      ]
     },
     "metadata": {
      "needs_background": "light"
     },
     "output_type": "display_data"
    }
   ],
   "source": [
    "plt.plot(losslist1)"
   ]
  },
  {
   "cell_type": "code",
   "execution_count": 13,
   "metadata": {},
   "outputs": [
    {
     "data": {
      "text/plain": [
       "[<matplotlib.lines.Line2D at 0x19a5524e580>]"
      ]
     },
     "execution_count": 13,
     "metadata": {},
     "output_type": "execute_result"
    },
    {
     "data": {
      "image/png": "[encoded data removed]",
      "text/plain": [
       "<Figure size 432x288 with 1 Axes>"
      ]
     },
     "metadata": {
      "needs_background": "light"
     },
     "output_type": "display_data"
    }
   ],
   "source": [
    "plt.plot(errorlist1,'g.')"
   ]
  },
  {
   "cell_type": "markdown",
   "metadata": {},
   "source": [
    "### 2.  Regularisation experiment:  ***12 marks***\n",
    "\n",
    "Now select a type of regularisation (which may be L2, or dropout) and train your initial model with different amounts of regularisation. \n",
    "\n",
    "A small amount of regularisation may improve the validation set performance of your overfitted model; too much regularisation may make performance on the validation set worse. \n",
    "\n",
    "Train your model multiple times, applying different amounts of regularisation, and plot a graoph showing the effect of different amounts of regularisation. \n",
    "\n",
    "Plot the amount of regularisation along the x axis, and the validation set performance (loss/error-rate) on the y axis.  How does regularisation affect the performance of your initial network, and what is the optimal amount? "
   ]
  },
  {
   "cell_type": "code",
   "execution_count": 43,
   "metadata": {},
   "outputs": [],
   "source": [
    "#selecting L2 regularisation"
   ]
  },
  {
   "cell_type": "code",
   "execution_count": 14,
   "metadata": {},
   "outputs": [
    {
     "name": "stdout",
     "output_type": "stream",
     "text": [
      " Error Rate on Train set: 93.275000 %\n",
      "Accuracy on Test set in with weight decay 0.100000 : 10.05 %\n",
      " Error Rate on Train set: 9.150000 %\n",
      "Accuracy on Test set in with weight decay 0.010000 : 88.95 %\n",
      " Error Rate on Train set: 1.625000 %\n",
      "Accuracy on Test set in with weight decay 0.001000 : 93.10 %\n",
      " Error Rate on Train set: 0.925000 %\n",
      "Accuracy on Test set in with weight decay 0.000100 : 93.74 %\n",
      " Error Rate on Train set: 0.850000 %\n",
      "Accuracy on Test set in with weight decay 0.000010 : 94.08 %\n",
      " Error Rate on Train set: 0.725000 %\n",
      "Accuracy on Test set in with weight decay 0.000001 : 94.19 %\n",
      " Error Rate on Train set: 0.625000 %\n",
      "Accuracy on Test set in with weight decay 0.000000 : 94.32 %\n"
     ]
    }
   ],
   "source": [
    "nn2 = NN1()\n",
    "y=[0.1,0.01,0.001,0.0001,0.00001,0.000001,0.0000001] #Values for different regularisation parameter\n",
    "errorlist2 = []\n",
    "for J in y:\n",
    "    optimizer3 = optim.RMSprop(nn2.parameters(), lr=0.001, weight_decay=J )\n",
    "\n",
    "    for epoch in range(50):\n",
    "        current_loss = 0.0 \n",
    "        n_mini_batches = 0\n",
    "        correct1 = 0 \n",
    "        total1 = 0\n",
    "        for i, mini_batch in enumerate( trainloader, 0 ):\n",
    "            images, labels = mini_batch\n",
    "            optimizer3.zero_grad()\n",
    "            outputs = nn2(images)\n",
    "            loss = loss_function(outputs, labels )\n",
    "            loss.backward() \n",
    "            optimizer3.step()\n",
    "            n_mini_batches += 1 \n",
    "            \n",
    "            _, predicted = torch.max( outputs, dim=1)\n",
    "            total1 += labels.size(0)  \n",
    "            correct1 += (predicted == labels).sum().item()\n",
    "            current_loss += loss.item()\n",
    "       \n",
    "       # errorlist2.append(error2)\n",
    "    print(' Error Rate on Train set: %f %%' %(100*(1-correct1/total1)))\n",
    "    test_total = 0\n",
    "    test_correct = 0\n",
    "    with torch.no_grad():  \n",
    "        for data in testloader: \n",
    "            images1, labels1 = data\n",
    "            outputs = nn2(images1)\n",
    "            _, predicted1 = torch.max( outputs, dim=1)\n",
    "            test_total += labels1.size(0)  \n",
    "            test_correct += (predicted1 == labels1).sum().item()\n",
    "    print( \"Accuracy on Test set in with weight decay %.6f : %.2f %%\" %(J,100 * test_correct/test_total))\n",
    "    errorlist2.append(100 * test_correct/test_total)"
   ]
  },
  {
   "cell_type": "code",
   "execution_count": 15,
   "metadata": {},
   "outputs": [
    {
     "name": "stdout",
     "output_type": "stream",
     "text": [
      "[10.05, 88.95, 93.1, 93.74, 94.08, 94.19, 94.32]\n"
     ]
    }
   ],
   "source": [
    "print(errorlist2)"
   ]
  },
  {
   "cell_type": "code",
   "execution_count": 16,
   "metadata": {},
   "outputs": [
    {
     "data": {
      "text/plain": [
       "[<matplotlib.lines.Line2D at 0x19a5b329910>]"
      ]
     },
     "execution_count": 16,
     "metadata": {},
     "output_type": "execute_result"
    },
    {
     "data": {
      "image/png": "[encoded data removed]",
      "text/plain": [
       "<Figure size 432x288 with 1 Axes>"
      ]
     },
     "metadata": {
      "needs_background": "light"
     },
     "output_type": "display_data"
    }
   ],
   "source": [
    "plt.plot(y,errorlist2)"
   ]
  },
  {
   "cell_type": "markdown",
   "metadata": {},
   "source": [
    "Clearly, from the results and graph  the best accuracy we got is 94.32% and best\n",
    "L2 regularisation parameter value is 0.0000001"
   ]
  },
  {
   "cell_type": "markdown",
   "metadata": {},
   "source": [
    "The regularisation help model to generalize better and reduce the problem of overfitting. As the regularisation parameter increase the variance of the model decrease and bias increase"
   ]
  },
  {
   "cell_type": "markdown",
   "metadata": {},
   "source": [
    "### 3.  Learning curve experiment:  ***12 marks***\n",
    "\n",
    "Now train your model (with the amount of regularisation you selected) on different amounts of training data. \n",
    "\n",
    "Plot the performance (loss/error-rate) of the model on the validation set against the size of the training set. \n",
    "This is typically best done on a log-log plot. \n",
    "\n",
    "Describe the approximate relationship between the training set size and loss / error-rate.  Does the network performance appear to improve as some power of the amount of data in the training set?  If so, by what power ? \n",
    "\n",
    "For example, a very good rate of improvement is for error-rate to be proportional to $\\dfrac{1}{\\sqrt{n}}$ where $n$ is the training set size.  For your model, the rate of improvement of validation error with training set size may not be as fast as this (or it may, who knows?)  The aim of this exercise is to find out what it actually is. "
   ]
  },
  {
   "cell_type": "code",
   "execution_count": 17,
   "metadata": {},
   "outputs": [
    {
     "name": "stdout",
     "output_type": "stream",
     "text": [
      " Error Rate on Train set: 1.150000 %\n",
      "Accuracy on Test set when model is trained on the set size of  2000.00 : 91.64 %\n",
      " Error Rate on Train set: 0.900000 %\n",
      "Accuracy on Test set when model is trained on the set size of  4000.00 : 94.17 %\n",
      " Error Rate on Train set: 0.750000 %\n",
      "Accuracy on Test set when model is trained on the set size of  6000.00 : 94.13 %\n",
      " Error Rate on Train set: 0.675000 %\n",
      "Accuracy on Test set when model is trained on the set size of  8000.00 : 95.40 %\n",
      " Error Rate on Train set: 0.520000 %\n",
      "Accuracy on Test set when model is trained on the set size of  10000.00 : 95.81 %\n",
      " Error Rate on Train set: 0.380000 %\n",
      "Accuracy on Test set when model is trained on the set size of  20000.00 : 96.90 %\n",
      " Error Rate on Train set: 0.376667 %\n",
      "Accuracy on Test set when model is trained on the set size of  30000.00 : 97.49 %\n"
     ]
    }
   ],
   "source": [
    "Values = [2000,4000,6000,8000,10000,20000,30000]\n",
    "nn3 = NN1()\n",
    "errorlist3=[]\n",
    "testloader1 = torch.utils.data.DataLoader( mnist_testset, batch_size=52, shuffle=False)\n",
    "for k in Values:\n",
    "    MNIST_trainset =  [ mnist_trainset[i] for i in range(0,k)]\n",
    "    trainloader1 = torch.utils.data.DataLoader( MNIST_trainset, batch_size=52, shuffle=False)\n",
    "    optimizer4 = optim.RMSprop(nn3.parameters(), lr=0.001, weight_decay=0.0000001 ) #training on best parameter value.\n",
    "\n",
    "    for epoch in range(50):\n",
    "        current_loss = 0.0 \n",
    "        n_mini_batches = 0\n",
    "        correct2 = 0 \n",
    "        total2 = 0\n",
    "        for i, mini_batch in enumerate( trainloader1, 0 ):\n",
    "            images, labels = mini_batch\n",
    "            optimizer4.zero_grad()\n",
    "            outputs = nn3(images)\n",
    "            loss = loss_function(outputs, labels )\n",
    "            loss.backward() \n",
    "            optimizer4.step()\n",
    "            n_mini_batches += 1 \n",
    "            _, predicted = torch.max( outputs, dim=1)\n",
    "            total2 += labels.size(0)  \n",
    "            correct2 += (predicted == labels).sum().item()\n",
    "            current_loss += loss.item()\n",
    " \n",
    "    print(' Error Rate on Train set: %f %%' %(100*(1-correct2/total2)))\n",
    "    test_total = 0\n",
    "    test_correct = 0\n",
    "    with torch.no_grad():  \n",
    "        for data in testloader1: \n",
    "            images1, labels1 = data\n",
    "            outputs = nn3(images1)\n",
    "            _, predicted1 = torch.max( outputs, dim=1)\n",
    "            test_total += labels1.size(0)  \n",
    "            test_correct += (predicted1 == labels1).sum().item()\n",
    "    print( \"Accuracy on Test set when model is trained on the set size of  %.2f : %.2f %%\" %(k,100 * test_correct/test_total))\n",
    "    errorlist3.append(100 * test_correct/test_total)"
   ]
  },
  {
   "cell_type": "markdown",
   "metadata": {},
   "source": [
    "As more and more data is provided, it helps model to learn better with variety of features. This convolutional net learn the problem well when the\n",
    "dataset size is maximum.\n",
    "As we can see, the Accuracy is improving with every step but there is no such porpotionate change in loss/error in my case."
   ]
  },
  {
   "cell_type": "code",
   "execution_count": 18,
   "metadata": {},
   "outputs": [
    {
     "name": "stdout",
     "output_type": "stream",
     "text": [
      "[91.64, 94.17, 94.13, 95.4, 95.81, 96.9, 97.49]\n"
     ]
    }
   ],
   "source": [
    "print(errorlist3)"
   ]
  },
  {
   "cell_type": "code",
   "execution_count": 19,
   "metadata": {},
   "outputs": [],
   "source": [
    "xlog = np.log(Values)\n",
    "ylog = np.log(errorlist3)"
   ]
  },
  {
   "cell_type": "code",
   "execution_count": 44,
   "metadata": {},
   "outputs": [
    {
     "data": {
      "text/plain": [
       "Text(0.5, 1.0, 'Log-Log Plot')"
      ]
     },
     "execution_count": 44,
     "metadata": {},
     "output_type": "execute_result"
    },
    {
     "data": {
      "image/png": "[encoded data removed]",
      "text/plain": [
       "<Figure size 432x288 with 1 Axes>"
      ]
     },
     "metadata": {
      "needs_background": "light"
     },
     "output_type": "display_data"
    }
   ],
   "source": [
    "plt.plot(xlog, ylog)\n",
    "plt.xlabel('Log(Values)')\n",
    "plt.ylabel('Log(Error on Testing Set)')\n",
    "plt.title('Log-Log Plot')"
   ]
  },
  {
   "cell_type": "markdown",
   "metadata": {},
   "source": [
    "### 4. Second model:   *** 14 marks ***\n",
    "\n",
    "Devise what you believe to be a better neural network architecture for the problem (e.g. for MNIST you might use a fully-connected network for your initial model, and then try a convolutional net for your second model).\n",
    "\n",
    "Repeat sections 2 (regularisation experiment), and determine whether it has better validation set performance than the first model, for an intermediate size of training set (e.g. 2000 or 4000 for the MNIST data). \n",
    "\n",
    "Repeat section 3. Does your model have a different learning curve from the first? Plot the learning curves for the first and second model on the same graph, to compare them. Comment: is there a more rapid reduction of error-rate with training set size for your second model?  "
   ]
  },
  {
   "cell_type": "code",
   "execution_count": 21,
   "metadata": {},
   "outputs": [],
   "source": [
    "class CNN( nn.Module ):\n",
    "    \n",
    "    def __init__(self): \n",
    "        super(CNN, self).__init__()\n",
    "        \n",
    "        self.layers = nn.Sequential(\n",
    "            nn.Conv2d(1, 32, kernel_size=3),\n",
    "            nn.ReLU(),\n",
    "            nn.AvgPool2d(kernel_size=3, stride=2),\n",
    "            nn.Conv2d(32, 64, kernel_size=3),\n",
    "            nn.ReLU(),\n",
    "            nn.AvgPool2d(kernel_size=3, stride=2),\n",
    "            nn.Flatten(),\n",
    "            nn.Linear(1024,10),\n",
    "            #nn.Linear(120,10)\n",
    "    \n",
    "        )\n",
    "    def forward( self, x ): # computes the forward pass ... this one is particularly simple\n",
    "        x = self.layers( x )\n",
    "        return x"
   ]
  },
  {
   "cell_type": "code",
   "execution_count": 22,
   "metadata": {},
   "outputs": [
    {
     "name": "stdout",
     "output_type": "stream",
     "text": [
      "\n",
      "\n",
      "parameters:\n",
      "[Parameter containing:\n",
      "tensor([[[[-0.1512, -0.1548, -0.0173],\n",
      "          [-0.0906, -0.2444,  0.2750],\n",
      "          [-0.3186, -0.1769, -0.2425]]],\n",
      "\n",
      "\n",
      "        [[[-0.1971, -0.0032, -0.1805],\n",
      "          [ 0.2529, -0.0691,  0.2432],\n",
      "          [ 0.1087,  0.0105,  0.2844]]],\n",
      "\n",
      "\n",
      "        [[[ 0.2534, -0.0839, -0.1131],\n",
      "          [ 0.0218,  0.0159, -0.2896],\n",
      "          [-0.1655, -0.0433, -0.1780]]],\n",
      "\n",
      "\n",
      "        [[[ 0.1700,  0.2538, -0.2728],\n",
      "          [-0.0646, -0.3210, -0.2835],\n",
      "          [ 0.3003,  0.1764,  0.0568]]],\n",
      "\n",
      "\n",
      "        [[[ 0.2838,  0.1106, -0.0612],\n",
      "          [-0.3009,  0.0165,  0.2572],\n",
      "          [ 0.1096,  0.0265,  0.2624]]],\n",
      "\n",
      "\n",
      "        [[[ 0.1045, -0.1564,  0.1655],\n",
      "          [-0.3155,  0.0471,  0.2254],\n",
      "          [ 0.0727,  0.2581,  0.1511]]],\n",
      "\n",
      "\n",
      "        [[[ 0.0394, -0.0795, -0.2273],\n",
      "          [-0.2327,  0.2418,  0.1371],\n",
      "          [-0.2008, -0.1921,  0.2089]]],\n",
      "\n",
      "\n",
      "        [[[ 0.1131, -0.0996,  0.0323],\n",
      "          [-0.2752, -0.1717,  0.0115],\n",
      "          [ 0.0930, -0.3051, -0.2118]]],\n",
      "\n",
      "\n",
      "        [[[-0.2139, -0.2481,  0.1448],\n",
      "          [-0.1287,  0.2940,  0.1892],\n",
      "          [ 0.2727, -0.1849, -0.1529]]],\n",
      "\n",
      "\n",
      "        [[[ 0.0897,  0.0944,  0.2324],\n",
      "          [ 0.2759,  0.3001, -0.2415],\n",
      "          [-0.2167,  0.0644,  0.1552]]],\n",
      "\n",
      "\n",
      "        [[[-0.3189, -0.1769, -0.0901],\n",
      "          [-0.2535,  0.2541, -0.0229],\n",
      "          [ 0.2410, -0.3154,  0.0883]]],\n",
      "\n",
      "\n",
      "        [[[-0.2290, -0.0105, -0.2001],\n",
      "          [ 0.3148, -0.0233, -0.2315],\n",
      "          [ 0.2705,  0.2785,  0.1066]]],\n",
      "\n",
      "\n",
      "        [[[ 0.3295, -0.3029, -0.2162],\n",
      "          [ 0.1475, -0.3283,  0.2524],\n",
      "          [ 0.3230,  0.1550,  0.0894]]],\n",
      "\n",
      "\n",
      "        [[[ 0.0104,  0.0144, -0.0642],\n",
      "          [-0.0923, -0.3009, -0.1238],\n",
      "          [ 0.1079,  0.0529, -0.1057]]],\n",
      "\n",
      "\n",
      "        [[[-0.2534, -0.0461, -0.1244],\n",
      "          [-0.0472,  0.1193,  0.0773],\n",
      "          [ 0.2063,  0.0287,  0.2230]]],\n",
      "\n",
      "\n",
      "        [[[ 0.2960,  0.1204,  0.1338],\n",
      "          [ 0.3225, -0.1111,  0.2610],\n",
      "          [-0.1098,  0.2472,  0.0330]]],\n",
      "\n",
      "\n",
      "        [[[ 0.0621, -0.2197,  0.1591],\n",
      "          [-0.1846, -0.0059,  0.3146],\n",
      "          [-0.2521,  0.1174,  0.1190]]],\n",
      "\n",
      "\n",
      "        [[[-0.0899, -0.2472,  0.1188],\n",
      "          [-0.0157,  0.0778,  0.0880],\n",
      "          [ 0.1643,  0.0179,  0.2305]]],\n",
      "\n",
      "\n",
      "        [[[ 0.1207,  0.3042,  0.3314],\n",
      "          [-0.1667, -0.1100, -0.1388],\n",
      "          [ 0.2247,  0.2340,  0.2505]]],\n",
      "\n",
      "\n",
      "        [[[-0.2135,  0.1363,  0.2330],\n",
      "          [ 0.1153,  0.2788,  0.0104],\n",
      "          [ 0.1873,  0.0516, -0.0590]]],\n",
      "\n",
      "\n",
      "        [[[-0.1566, -0.2321,  0.2298],\n",
      "          [-0.0229,  0.2102, -0.1026],\n",
      "          [-0.2076, -0.1728,  0.1919]]],\n",
      "\n",
      "\n",
      "        [[[-0.3041,  0.0800,  0.1802],\n",
      "          [ 0.2711, -0.1755, -0.0697],\n",
      "          [-0.0827,  0.2366, -0.2687]]],\n",
      "\n",
      "\n",
      "        [[[-0.1245,  0.0272,  0.3227],\n",
      "          [-0.2041,  0.0870,  0.1239],\n",
      "          [ 0.1796, -0.1499,  0.2850]]],\n",
      "\n",
      "\n",
      "        [[[ 0.0951,  0.2518, -0.0123],\n",
      "          [-0.0278,  0.1651,  0.3019],\n",
      "          [ 0.2393,  0.3298, -0.0490]]],\n",
      "\n",
      "\n",
      "        [[[ 0.1932,  0.0714,  0.0086],\n",
      "          [ 0.0246,  0.2468,  0.3129],\n",
      "          [-0.2680,  0.1491,  0.1989]]],\n",
      "\n",
      "\n",
      "        [[[ 0.0663,  0.1887,  0.1376],\n",
      "          [-0.2733, -0.1152, -0.2934],\n",
      "          [ 0.2406, -0.1213,  0.2714]]],\n",
      "\n",
      "\n",
      "        [[[-0.1033, -0.2643, -0.2410],\n",
      "          [-0.0204, -0.1027, -0.0023],\n",
      "          [-0.0389, -0.1041, -0.2395]]],\n",
      "\n",
      "\n",
      "        [[[ 0.0859,  0.3087,  0.2112],\n",
      "          [ 0.1261,  0.1898,  0.1244],\n",
      "          [-0.1106, -0.1130, -0.1784]]],\n",
      "\n",
      "\n",
      "        [[[-0.2891,  0.0221, -0.0742],\n",
      "          [ 0.1641, -0.0238,  0.0358],\n",
      "          [-0.1030,  0.3240,  0.3236]]],\n",
      "\n",
      "\n",
      "        [[[ 0.1366, -0.0413,  0.1707],\n",
      "          [-0.2070,  0.1565, -0.0592],\n",
      "          [-0.1873,  0.1333, -0.0607]]],\n",
      "\n",
      "\n",
      "        [[[ 0.1576,  0.1792, -0.0359],\n",
      "          [-0.1880,  0.2392, -0.0490],\n",
      "          [-0.1470,  0.3185, -0.3061]]],\n",
      "\n",
      "\n",
      "        [[[-0.1450,  0.0142,  0.1734],\n",
      "          [-0.2715, -0.2256, -0.3270],\n",
      "          [ 0.2151,  0.2025, -0.0078]]]], requires_grad=True), Parameter containing:\n",
      "tensor([ 0.0204, -0.1769,  0.1859, -0.3203,  0.1571,  0.1799, -0.0609,  0.3044,\n",
      "         0.3204,  0.2535, -0.1297,  0.2952, -0.1907, -0.1337, -0.2416, -0.3091,\n",
      "        -0.2268, -0.0038, -0.2303,  0.1540,  0.0742,  0.2181, -0.0393, -0.0659,\n",
      "        -0.1050, -0.1888, -0.2776,  0.1920, -0.0519,  0.1211,  0.3329, -0.1812],\n",
      "       requires_grad=True), Parameter containing:\n",
      "tensor([[[[ 0.0022, -0.0312, -0.0204],\n",
      "          [ 0.0495, -0.0510,  0.0204],\n",
      "          [-0.0173,  0.0198, -0.0183]],\n",
      "\n",
      "         [[-0.0006, -0.0296,  0.0406],\n",
      "          [-0.0051, -0.0166, -0.0103],\n",
      "          [-0.0511,  0.0045,  0.0338]],\n",
      "\n",
      "         [[-0.0321,  0.0515, -0.0317],\n",
      "          [ 0.0242,  0.0165,  0.0044],\n",
      "          [ 0.0333, -0.0336, -0.0496]],\n",
      "\n",
      "         ...,\n",
      "\n",
      "         [[-0.0557, -0.0162,  0.0536],\n",
      "          [-0.0388, -0.0288, -0.0423],\n",
      "          [ 0.0219,  0.0249, -0.0464]],\n",
      "\n",
      "         [[ 0.0477, -0.0142,  0.0576],\n",
      "          [ 0.0384, -0.0436,  0.0507],\n",
      "          [ 0.0518, -0.0370, -0.0583]],\n",
      "\n",
      "         [[-0.0092,  0.0032,  0.0121],\n",
      "          [-0.0229,  0.0311,  0.0461],\n",
      "          [ 0.0570,  0.0048,  0.0356]]],\n",
      "\n",
      "\n",
      "        [[[-0.0073,  0.0123, -0.0435],\n",
      "          [ 0.0344, -0.0588, -0.0354],\n",
      "          [ 0.0172,  0.0100, -0.0538]],\n",
      "\n",
      "         [[ 0.0428, -0.0538, -0.0461],\n",
      "          [ 0.0079,  0.0312,  0.0565],\n",
      "          [-0.0206,  0.0218, -0.0407]],\n",
      "\n",
      "         [[-0.0199,  0.0017, -0.0107],\n",
      "          [ 0.0352,  0.0409, -0.0431],\n",
      "          [-0.0229,  0.0056,  0.0398]],\n",
      "\n",
      "         ...,\n",
      "\n",
      "         [[-0.0025,  0.0496,  0.0377],\n",
      "          [-0.0034,  0.0315, -0.0362],\n",
      "          [-0.0258,  0.0254, -0.0237]],\n",
      "\n",
      "         [[-0.0200,  0.0533, -0.0099],\n",
      "          [-0.0437, -0.0437, -0.0497],\n",
      "          [ 0.0383, -0.0229,  0.0061]],\n",
      "\n",
      "         [[-0.0176, -0.0496, -0.0358],\n",
      "          [-0.0243, -0.0316,  0.0498],\n",
      "          [-0.0524,  0.0537, -0.0439]]],\n",
      "\n",
      "\n",
      "        [[[ 0.0245,  0.0243, -0.0143],\n",
      "          [-0.0495,  0.0370,  0.0537],\n",
      "          [ 0.0056, -0.0165,  0.0189]],\n",
      "\n",
      "         [[ 0.0197, -0.0402, -0.0319],\n",
      "          [-0.0142,  0.0383, -0.0222],\n",
      "          [ 0.0462, -0.0179,  0.0057]],\n",
      "\n",
      "         [[ 0.0314, -0.0553, -0.0217],\n",
      "          [ 0.0348, -0.0576,  0.0533],\n",
      "          [ 0.0117,  0.0439,  0.0165]],\n",
      "\n",
      "         ...,\n",
      "\n",
      "         [[ 0.0362, -0.0366, -0.0510],\n",
      "          [ 0.0534,  0.0382,  0.0416],\n",
      "          [ 0.0450, -0.0102,  0.0552]],\n",
      "\n",
      "         [[-0.0141, -0.0296, -0.0409],\n",
      "          [-0.0358,  0.0110, -0.0229],\n",
      "          [ 0.0468, -0.0426,  0.0371]],\n",
      "\n",
      "         [[ 0.0321, -0.0279,  0.0368],\n",
      "          [ 0.0037, -0.0341,  0.0231],\n",
      "          [ 0.0358, -0.0391, -0.0211]]],\n",
      "\n",
      "\n",
      "        ...,\n",
      "\n",
      "\n",
      "        [[[ 0.0497,  0.0344,  0.0477],\n",
      "          [ 0.0334,  0.0439, -0.0033],\n",
      "          [ 0.0039,  0.0505,  0.0183]],\n",
      "\n",
      "         [[-0.0354,  0.0357, -0.0448],\n",
      "          [-0.0447,  0.0027,  0.0454],\n",
      "          [-0.0062,  0.0360,  0.0478]],\n",
      "\n",
      "         [[ 0.0322,  0.0277,  0.0293],\n",
      "          [ 0.0156, -0.0493,  0.0329],\n",
      "          [ 0.0493,  0.0162,  0.0408]],\n",
      "\n",
      "         ...,\n",
      "\n",
      "         [[ 0.0151, -0.0421, -0.0554],\n",
      "          [-0.0092,  0.0282, -0.0103],\n",
      "          [ 0.0561, -0.0162,  0.0106]],\n",
      "\n",
      "         [[ 0.0409,  0.0045, -0.0150],\n",
      "          [ 0.0488,  0.0296, -0.0261],\n",
      "          [-0.0230, -0.0101,  0.0404]],\n",
      "\n",
      "         [[ 0.0049,  0.0196, -0.0315],\n",
      "          [ 0.0482, -0.0403, -0.0509],\n",
      "          [ 0.0110,  0.0007, -0.0573]]],\n",
      "\n",
      "\n",
      "        [[[-0.0318, -0.0058, -0.0224],\n",
      "          [ 0.0380, -0.0061,  0.0350],\n",
      "          [-0.0508, -0.0385,  0.0275]],\n",
      "\n",
      "         [[ 0.0224,  0.0433,  0.0177],\n",
      "          [ 0.0005,  0.0105, -0.0269],\n",
      "          [ 0.0395,  0.0476,  0.0055]],\n",
      "\n",
      "         [[-0.0303,  0.0586,  0.0470],\n",
      "          [-0.0443,  0.0357,  0.0178],\n",
      "          [-0.0215,  0.0232, -0.0373]],\n",
      "\n",
      "         ...,\n",
      "\n",
      "         [[ 0.0456, -0.0176,  0.0005],\n",
      "          [ 0.0433,  0.0328,  0.0038],\n",
      "          [ 0.0320, -0.0572, -0.0222]],\n",
      "\n",
      "         [[-0.0386,  0.0542, -0.0227],\n",
      "          [-0.0314,  0.0390,  0.0349],\n",
      "          [-0.0359, -0.0466,  0.0078]],\n",
      "\n",
      "         [[ 0.0352,  0.0509, -0.0161],\n",
      "          [-0.0427, -0.0130,  0.0194],\n",
      "          [-0.0102,  0.0545, -0.0484]]],\n",
      "\n",
      "\n",
      "        [[[-0.0035,  0.0504,  0.0049],\n",
      "          [-0.0087,  0.0351, -0.0294],\n",
      "          [-0.0213, -0.0329, -0.0129]],\n",
      "\n",
      "         [[ 0.0203,  0.0129, -0.0343],\n",
      "          [ 0.0498,  0.0522,  0.0370],\n",
      "          [-0.0265, -0.0365,  0.0234]],\n",
      "\n",
      "         [[ 0.0553,  0.0543, -0.0353],\n",
      "          [-0.0109,  0.0282,  0.0106],\n",
      "          [ 0.0111,  0.0230,  0.0233]],\n",
      "\n",
      "         ...,\n",
      "\n",
      "         [[ 0.0388, -0.0248, -0.0541],\n",
      "          [ 0.0240,  0.0299, -0.0535],\n",
      "          [ 0.0142,  0.0354, -0.0433]],\n",
      "\n",
      "         [[ 0.0511, -0.0049, -0.0035],\n",
      "          [ 0.0448,  0.0275,  0.0227],\n",
      "          [-0.0332,  0.0576,  0.0149]],\n",
      "\n",
      "         [[ 0.0509, -0.0207,  0.0368],\n",
      "          [ 0.0438, -0.0156, -0.0099],\n",
      "          [-0.0526, -0.0420, -0.0029]]]], requires_grad=True), Parameter containing:\n",
      "tensor([-0.0422, -0.0230,  0.0409, -0.0468,  0.0516,  0.0023, -0.0447, -0.0387,\n",
      "         0.0283, -0.0019,  0.0586, -0.0477,  0.0156,  0.0469,  0.0498,  0.0329,\n",
      "         0.0571, -0.0108, -0.0214, -0.0164, -0.0060, -0.0150, -0.0398,  0.0406,\n",
      "         0.0550, -0.0169, -0.0463,  0.0271, -0.0049,  0.0082,  0.0087, -0.0417,\n",
      "        -0.0329, -0.0152, -0.0513,  0.0068,  0.0145, -0.0141, -0.0382,  0.0350,\n",
      "         0.0476,  0.0059,  0.0226,  0.0421, -0.0262, -0.0526,  0.0248, -0.0338,\n",
      "         0.0493, -0.0312,  0.0252, -0.0512, -0.0003, -0.0507,  0.0334,  0.0238,\n",
      "         0.0261,  0.0169, -0.0375, -0.0288, -0.0011,  0.0492, -0.0406, -0.0127],\n",
      "       requires_grad=True), Parameter containing:\n",
      "tensor([[ 0.0180,  0.0291, -0.0197,  ...,  0.0140, -0.0270, -0.0114],\n",
      "        [ 0.0233, -0.0224, -0.0094,  ..., -0.0220, -0.0301, -0.0145],\n",
      "        [-0.0230,  0.0116,  0.0223,  ..., -0.0259, -0.0302, -0.0304],\n",
      "        ...,\n",
      "        [ 0.0147, -0.0031, -0.0087,  ...,  0.0271,  0.0059,  0.0312],\n",
      "        [ 0.0247,  0.0054,  0.0044,  ...,  0.0286, -0.0190, -0.0185],\n",
      "        [-0.0146,  0.0216,  0.0215,  ..., -0.0191,  0.0226, -0.0098]],\n",
      "       requires_grad=True), Parameter containing:\n",
      "tensor([ 0.0185,  0.0055,  0.0114,  0.0013, -0.0285,  0.0143,  0.0201, -0.0251,\n",
      "        -0.0116,  0.0284], requires_grad=True)]\n"
     ]
    }
   ],
   "source": [
    "model1= CNN()\n",
    "print(\"\\n\\nparameters:\")\n",
    "params = [ p for p in model1.parameters() ]\n",
    "print(params)"
   ]
  },
  {
   "cell_type": "code",
   "execution_count": 23,
   "metadata": {},
   "outputs": [
    {
     "data": {
      "text/plain": [
       "torch.Size([1, 10])"
      ]
     },
     "execution_count": 23,
     "metadata": {},
     "output_type": "execute_result"
    }
   ],
   "source": [
    "output = model1( mnist_trainset[0][0].view(1,1,28,28) )\n",
    "\n",
    "output.shape"
   ]
  },
  {
   "cell_type": "code",
   "execution_count": 24,
   "metadata": {},
   "outputs": [
    {
     "name": "stdout",
     "output_type": "stream",
     "text": [
      "Epoch 1 loss: 1.017 Accuracy on train set: 68 %\n",
      "Epoch 2 loss: 0.464 Accuracy on train set: 85 %\n",
      "Epoch 3 loss: 0.368 Accuracy on train set: 88 %\n",
      "Epoch 4 loss: 0.304 Accuracy on train set: 91 %\n",
      "Epoch 5 loss: 0.257 Accuracy on train set: 92 %\n",
      "Epoch 6 loss: 0.222 Accuracy on train set: 94 %\n",
      "Epoch 7 loss: 0.196 Accuracy on train set: 94 %\n",
      "Epoch 8 loss: 0.176 Accuracy on train set: 95 %\n",
      "Epoch 9 loss: 0.161 Accuracy on train set: 95 %\n",
      "Epoch 10 loss: 0.149 Accuracy on train set: 95 %\n",
      "Epoch 11 loss: 0.139 Accuracy on train set: 96 %\n",
      "Epoch 12 loss: 0.130 Accuracy on train set: 96 %\n",
      "Epoch 13 loss: 0.123 Accuracy on train set: 96 %\n",
      "Epoch 14 loss: 0.116 Accuracy on train set: 96 %\n",
      "Epoch 15 loss: 0.110 Accuracy on train set: 96 %\n",
      "Epoch 16 loss: 0.104 Accuracy on train set: 96 %\n",
      "Epoch 17 loss: 0.099 Accuracy on train set: 97 %\n",
      "Epoch 18 loss: 0.094 Accuracy on train set: 97 %\n",
      "Epoch 19 loss: 0.090 Accuracy on train set: 97 %\n",
      "Epoch 20 loss: 0.086 Accuracy on train set: 97 %\n",
      "Epoch 21 loss: 0.082 Accuracy on train set: 97 %\n",
      "Epoch 22 loss: 0.078 Accuracy on train set: 97 %\n",
      "Epoch 23 loss: 0.075 Accuracy on train set: 98 %\n",
      "Epoch 24 loss: 0.071 Accuracy on train set: 98 %\n",
      "Epoch 25 loss: 0.068 Accuracy on train set: 98 %\n",
      "Epoch 26 loss: 0.065 Accuracy on train set: 98 %\n",
      "Epoch 27 loss: 0.062 Accuracy on train set: 98 %\n",
      "Epoch 28 loss: 0.060 Accuracy on train set: 98 %\n",
      "Epoch 29 loss: 0.057 Accuracy on train set: 98 %\n",
      "Epoch 30 loss: 0.055 Accuracy on train set: 98 %\n",
      "Epoch 31 loss: 0.052 Accuracy on train set: 98 %\n",
      "Epoch 32 loss: 0.050 Accuracy on train set: 98 %\n",
      "Epoch 33 loss: 0.048 Accuracy on train set: 98 %\n",
      "Epoch 34 loss: 0.046 Accuracy on train set: 98 %\n",
      "Epoch 35 loss: 0.044 Accuracy on train set: 98 %\n",
      "Epoch 36 loss: 0.042 Accuracy on train set: 99 %\n",
      "Epoch 37 loss: 0.040 Accuracy on train set: 99 %\n",
      "Epoch 38 loss: 0.038 Accuracy on train set: 99 %\n",
      "Epoch 39 loss: 0.036 Accuracy on train set: 99 %\n",
      "Epoch 40 loss: 0.034 Accuracy on train set: 99 %\n",
      "Epoch 41 loss: 0.033 Accuracy on train set: 99 %\n",
      "Epoch 42 loss: 0.031 Accuracy on train set: 99 %\n",
      "Epoch 43 loss: 0.030 Accuracy on train set: 99 %\n",
      "Epoch 44 loss: 0.028 Accuracy on train set: 99 %\n",
      "Epoch 45 loss: 0.027 Accuracy on train set: 99 %\n",
      "Epoch 46 loss: 0.025 Accuracy on train set: 99 %\n",
      "Epoch 47 loss: 0.024 Accuracy on train set: 99 %\n",
      "Epoch 48 loss: 0.023 Accuracy on train set: 99 %\n",
      "Epoch 49 loss: 0.021 Accuracy on train set: 99 %\n",
      "Epoch 50 loss: 0.020 Accuracy on train set: 99 %\n",
      "Epoch 51 loss: 0.019 Accuracy on train set: 99 %\n",
      "Epoch 52 loss: 0.018 Accuracy on train set: 99 %\n",
      "Epoch 53 loss: 0.017 Accuracy on train set: 99 %\n",
      "Epoch 54 loss: 0.016 Accuracy on train set: 99 %\n",
      "Epoch 55 loss: 0.018 Accuracy on train set: 99 %\n",
      "Epoch 56 loss: 0.014 Accuracy on train set: 99 %\n",
      "Epoch 57 loss: 0.013 Accuracy on train set: 99 %\n",
      "Epoch 58 loss: 0.016 Accuracy on train set: 99 %\n",
      "Epoch 59 loss: 0.010 Accuracy on train set: 99 %\n",
      "Epoch 60 loss: 0.015 Accuracy on train set: 99 %\n",
      "Epoch 61 loss: 0.010 Accuracy on train set: 99 %\n",
      "Epoch 62 loss: 0.007 Accuracy on train set: 99 %\n",
      "Epoch 63 loss: 0.013 Accuracy on train set: 99 %\n",
      "Epoch 64 loss: 0.015 Accuracy on train set: 99 %\n",
      "Epoch 65 loss: 0.019 Accuracy on train set: 99 %\n",
      "Epoch 66 loss: 0.008 Accuracy on train set: 99 %\n",
      "Epoch 67 loss: 0.007 Accuracy on train set: 99 %\n",
      "Epoch 68 loss: 0.009 Accuracy on train set: 99 %\n",
      "Epoch 69 loss: 0.005 Accuracy on train set: 99 %\n",
      "Epoch 70 loss: 0.005 Accuracy on train set: 99 %\n",
      "Epoch 71 loss: 0.011 Accuracy on train set: 99 %\n",
      "Epoch 72 loss: 0.019 Accuracy on train set: 99 %\n",
      "Epoch 73 loss: 0.006 Accuracy on train set: 99 %\n",
      "Epoch 74 loss: 0.004 Accuracy on train set: 99 %\n",
      "Epoch 75 loss: 0.003 Accuracy on train set: 99 %\n",
      "Epoch 76 loss: 0.004 Accuracy on train set: 99 %\n",
      "Epoch 77 loss: 0.025 Accuracy on train set: 99 %\n",
      "Epoch 78 loss: 0.005 Accuracy on train set: 99 %\n",
      "Epoch 79 loss: 0.004 Accuracy on train set: 99 %\n",
      "Epoch 80 loss: 0.003 Accuracy on train set: 99 %\n",
      "Epoch 81 loss: 0.003 Accuracy on train set: 99 %\n",
      "Epoch 82 loss: 0.032 Accuracy on train set: 99 %\n",
      "Epoch 83 loss: 0.004 Accuracy on train set: 99 %\n",
      "Epoch 84 loss: 0.004 Accuracy on train set: 99 %\n",
      "Epoch 85 loss: 0.003 Accuracy on train set: 99 %\n",
      "Epoch 86 loss: 0.005 Accuracy on train set: 99 %\n",
      "Epoch 87 loss: 0.012 Accuracy on train set: 99 %\n",
      "Epoch 88 loss: 0.002 Accuracy on train set: 99 %\n",
      "Epoch 89 loss: 0.002 Accuracy on train set: 99 %\n",
      "Epoch 90 loss: 0.004 Accuracy on train set: 99 %\n",
      "Epoch 91 loss: 0.005 Accuracy on train set: 99 %\n",
      "Epoch 92 loss: 0.024 Accuracy on train set: 99 %\n",
      "Epoch 93 loss: 0.003 Accuracy on train set: 99 %\n",
      "Epoch 94 loss: 0.002 Accuracy on train set: 99 %\n",
      "Epoch 95 loss: 0.001 Accuracy on train set: 100 %\n",
      "Epoch 96 loss: 0.001 Accuracy on train set: 100 %\n",
      "Epoch 97 loss: 0.001 Accuracy on train set: 100 %\n",
      "Epoch 98 loss: 0.021 Accuracy on train set: 99 %\n",
      "Epoch 99 loss: 0.003 Accuracy on train set: 99 %\n",
      "Epoch 100 loss: 0.001 Accuracy on train set: 100 %\n"
     ]
    }
   ],
   "source": [
    "trainloader = torch.utils.data.DataLoader( mnist_trainset_small, batch_size=52, shuffle=False)\n",
    "testloader = torch.utils.data.DataLoader( mnist_testset, batch_size=52, shuffle=False)\n",
    "\n",
    "optimizer4 = optim.RMSprop( model1.parameters(), lr=0.001 )\n",
    "newlosslist1 = []\n",
    "newerrorlist1 = []\n",
    "for epoch in range(100):\n",
    "    current_loss = 0.0 \n",
    "    n_mini_batches = 0\n",
    "    correct = 0 \n",
    "    total = 0\n",
    "    \n",
    "    for i, mini_batch in enumerate( trainloader, 0 ):\n",
    "        images, labels = mini_batch\n",
    "        optimizer4.zero_grad()\n",
    "        \n",
    "        outputs = model1(images)\n",
    "        loss = loss_function ( outputs, labels )\n",
    "        loss.backward() \n",
    "        optimizer4.step()\n",
    "        \n",
    "        n_mini_batches += 1 \n",
    "        current_loss += loss.item()\n",
    "        _, predicted = torch.max( outputs, dim=1)\n",
    "        total += labels.size(0)  \n",
    "        correct += (predicted == labels).sum().item()\n",
    "    loss1=current_loss / n_mini_batches\n",
    "    newlosslist1.append(loss1)\n",
    "    error1 = (100*(1-(correct/total)))\n",
    "    newerrorlist1.append(error1)\n",
    "    print('Epoch %d loss: %.3f Accuracy on train set: %d %%' %(epoch+1, current_loss / n_mini_batches,100 * correct/total ))"
   ]
  },
  {
   "cell_type": "code",
   "execution_count": 25,
   "metadata": {},
   "outputs": [
    {
     "name": "stdout",
     "output_type": "stream",
     "text": [
      "[1.016741305976719, 0.46422886964562654, 0.3676137517799031, 0.30425880955798285, 0.25713984513437593, 0.2221001208602608, 0.19580674456892075, 0.1762619207722026, 0.16096643764864316, 0.148849433142837, 0.13874187385784342, 0.13017587165360328, 0.12271575443446636, 0.11583696929858876, 0.11002318111139459, 0.10431517740445477, 0.09910354644737461, 0.09443925887152746, 0.08983638282720145, 0.08576845037811376, 0.08185504305527194, 0.0780045652350822, 0.07450971437932609, 0.07109379228930195, 0.06787379979845379, 0.06495163295805068, 0.062185978335509824, 0.059531542690253104, 0.05702729711260695, 0.054614147086712445, 0.05230142842591196, 0.05004477857720929, 0.047893227924677456, 0.04579166570896065, 0.04374163923482713, 0.04169270479991161, 0.039935751869524645, 0.03803146693117723, 0.03618079740493619, 0.03440616230855321, 0.0327850022177853, 0.03131424163939891, 0.0296618740993564, 0.028212645154615693, 0.026768127858469434, 0.025460591566954533, 0.023982451487840575, 0.022791443903652297, 0.021397780834140814, 0.020185299140594706, 0.018809068554939776, 0.017569957523268055, 0.016751284644539868, 0.016164440162745968, 0.017805286419695823, 0.013887495829802393, 0.012832239861358199, 0.015701797958644858, 0.009590208064764738, 0.014999770975139524, 0.009588080850677782, 0.007265682865535937, 0.012605578290501174, 0.015289694351082147, 0.019139834748454054, 0.008070607930830039, 0.006920438438998656, 0.00910260549152282, 0.005128471623023658, 0.005035100638746986, 0.01104098247128309, 0.019184545139848654, 0.0061440622867175755, 0.003982901763489966, 0.0031523787559769056, 0.003524534521449067, 0.024835724901980962, 0.005327958229236764, 0.0036287719110562164, 0.0026070049593668104, 0.0026062506058460474, 0.03167610231944958, 0.00413001419032558, 0.003948727804574398, 0.002829856548440195, 0.00506548593741125, 0.012369814017211546, 0.0020897203373009122, 0.0023477599801504743, 0.003500175442359132, 0.004804672098638454, 0.024485731201195165, 0.002915050296516191, 0.0018622656409277554, 0.0013429264442977426, 0.001017908527926495, 0.0009307537618408421, 0.02079544763036175, 0.0025441069369958017, 0.0013472080713004939]\n"
     ]
    }
   ],
   "source": [
    "print(newlosslist1)"
   ]
  },
  {
   "cell_type": "code",
   "execution_count": 26,
   "metadata": {},
   "outputs": [
    {
     "name": "stdout",
     "output_type": "stream",
     "text": [
      "[31.899999999999995, 14.325, 11.024999999999995, 8.875, 7.225000000000003, 5.974999999999997, 5.174999999999996, 4.774999999999996, 4.400000000000004, 4.174999999999995, 3.949999999999998, 3.6499999999999977, 3.4499999999999975, 3.225, 3.1749999999999945, 3.049999999999997, 2.8000000000000025, 2.6249999999999996, 2.475000000000005, 2.375000000000005, 2.224999999999999, 2.124999999999999, 1.924999999999999, 1.849999999999996, 1.7000000000000015, 1.5750000000000042, 1.5000000000000013, 1.4499999999999957, 1.3499999999999956, 1.275000000000004, 1.200000000000001, 1.1499999999999955, 1.0499999999999954, 1.0750000000000037, 1.0249999999999981, 0.9000000000000008, 0.8000000000000007, 0.7249999999999979, 0.6750000000000034, 0.649999999999995, 0.6249999999999978, 0.6249999999999978, 0.5750000000000033, 0.5499999999999949, 0.5249999999999977, 0.5000000000000004, 0.44999999999999485, 0.4249999999999976, 0.40000000000000036, 0.3750000000000031, 0.34999999999999476, 0.34999999999999476, 0.40000000000000036, 0.40000000000000036, 0.5000000000000004, 0.275000000000003, 0.275000000000003, 0.44999999999999485, 0.20000000000000018, 0.40000000000000036, 0.24999999999999467, 0.07500000000000284, 0.40000000000000036, 0.4249999999999976, 0.6000000000000005, 0.14999999999999458, 0.14999999999999458, 0.24999999999999467, 0.024999999999997247, 0.04999999999999449, 0.30000000000000027, 0.6750000000000034, 0.10000000000000009, 0.04999999999999449, 0.024999999999997247, 0.07500000000000284, 0.8000000000000007, 0.12499999999999734, 0.024999999999997247, 0.024999999999997247, 0.07500000000000284, 0.824999999999998, 0.04999999999999449, 0.07500000000000284, 0.04999999999999449, 0.12499999999999734, 0.40000000000000036, 0.024999999999997247, 0.04999999999999449, 0.07500000000000284, 0.12499999999999734, 0.824999999999998, 0.04999999999999449, 0.024999999999997247, 0.0, 0.0, 0.0, 0.5499999999999949, 0.024999999999997247, 0.0]\n"
     ]
    }
   ],
   "source": [
    "print(newerrorlist1)"
   ]
  },
  {
   "cell_type": "code",
   "execution_count": 27,
   "metadata": {},
   "outputs": [
    {
     "name": "stdout",
     "output_type": "stream",
     "text": [
      "Accuracy on Test set: 96 %\n"
     ]
    }
   ],
   "source": [
    "CORRECT = 0 \n",
    "TOTAL = 0 \n",
    "with torch.no_grad():  # we do not neet to compute the gradients when making predictions on the validation set\n",
    "    for data in testloader: \n",
    "        images, labels = data\n",
    "        outputs = model1(images)\n",
    "        _, predicted = torch.max( outputs, dim=1)\n",
    "        TOTAL += labels.size(0)  \n",
    "        CORRECT += (predicted == labels).sum().item() \n",
    "print( \"Accuracy on Test set: %d %%\" %(100 * CORRECT/TOTAL))"
   ]
  },
  {
   "cell_type": "code",
   "execution_count": 28,
   "metadata": {},
   "outputs": [
    {
     "data": {
      "text/plain": [
       "[<matplotlib.lines.Line2D at 0x19a62d58df0>]"
      ]
     },
     "execution_count": 28,
     "metadata": {},
     "output_type": "execute_result"
    },
    {
     "data": {
      "image/png": "[encoded data removed]",
      "text/plain": [
       "<Figure size 432x288 with 1 Axes>"
      ]
     },
     "metadata": {
      "needs_background": "light"
     },
     "output_type": "display_data"
    }
   ],
   "source": [
    "plt.plot(newlosslist1)"
   ]
  },
  {
   "cell_type": "code",
   "execution_count": 29,
   "metadata": {},
   "outputs": [
    {
     "data": {
      "text/plain": [
       "[<matplotlib.lines.Line2D at 0x19a67f78790>]"
      ]
     },
     "execution_count": 29,
     "metadata": {},
     "output_type": "execute_result"
    },
    {
     "data": {
      "image/png": "[encoded data removed]",
      "text/plain": [
       "<Figure size 432x288 with 1 Axes>"
      ]
     },
     "metadata": {
      "needs_background": "light"
     },
     "output_type": "display_data"
    }
   ],
   "source": [
    "plt.plot(newerrorlist1,'g')"
   ]
  },
  {
   "cell_type": "code",
   "execution_count": 30,
   "metadata": {},
   "outputs": [
    {
     "name": "stdout",
     "output_type": "stream",
     "text": [
      " Error Rate on Train set: 16.600000 %\n",
      "Accuracy on Test set in with weight decay 0.100000 : 83.31 %\n",
      " Error Rate on Train set: 4.000000 %\n",
      "Accuracy on Test set in with weight decay 0.010000 : 94.42 %\n",
      " Error Rate on Train set: 1.650000 %\n",
      "Accuracy on Test set in with weight decay 0.001000 : 95.95 %\n",
      " Error Rate on Train set: 0.425000 %\n",
      "Accuracy on Test set in with weight decay 0.000100 : 95.70 %\n",
      " Error Rate on Train set: 0.400000 %\n",
      "Accuracy on Test set in with weight decay 0.000010 : 95.32 %\n",
      " Error Rate on Train set: 0.375000 %\n",
      "Accuracy on Test set in with weight decay 0.000001 : 95.76 %\n",
      " Error Rate on Train set: 0.000000 %\n",
      "Accuracy on Test set in with weight decay 0.000000 : 95.74 %\n"
     ]
    }
   ],
   "source": [
    "model2 = CNN()\n",
    "y=[0.1,0.01,0.001,0.0001,0.00001,0.000001,0.0000001]\n",
    "newerrorlist2 = []\n",
    "for J in y:\n",
    "    optimizer3 = optim.RMSprop(model2.parameters(), lr=0.001, weight_decay=J )\n",
    "\n",
    "    for epoch in range(50):\n",
    "        current_loss = 0.0 \n",
    "        n_mini_batches = 0\n",
    "        correct1 = 0 \n",
    "        total1 = 0\n",
    "        for i, mini_batch in enumerate( trainloader, 0 ):\n",
    "            images, labels = mini_batch\n",
    "            optimizer3.zero_grad()\n",
    "            outputs = model2(images)\n",
    "            loss = loss_function(outputs, labels )\n",
    "            loss.backward() \n",
    "            optimizer3.step()\n",
    "            n_mini_batches += 1 \n",
    "            \n",
    "            _, predicted = torch.max( outputs, dim=1)\n",
    "            total1 += labels.size(0)  \n",
    "            correct1 += (predicted == labels).sum().item()\n",
    "            current_loss += loss.item()\n",
    "       \n",
    "       # errorlist2.append(error2)\n",
    "    print(' Error Rate on Train set: %f %%' %(100*(1-correct1/total1)))\n",
    "    test_total = 0\n",
    "    test_correct = 0\n",
    "    with torch.no_grad():  \n",
    "        for data in testloader: \n",
    "            images1, labels1 = data\n",
    "            outputs = model2(images1)\n",
    "            _, predicted1 = torch.max( outputs, dim=1)\n",
    "            test_total += labels1.size(0)  \n",
    "            test_correct += (predicted1 == labels1).sum().item()\n",
    "    print( \"Accuracy on Test set in with weight decay %.6f : %.2f %%\" %(J,100 * test_correct/test_total))\n",
    "    newerrorlist2.append(100 * test_correct/test_total)"
   ]
  },
  {
   "cell_type": "code",
   "execution_count": 31,
   "metadata": {},
   "outputs": [
    {
     "name": "stdout",
     "output_type": "stream",
     "text": [
      "[83.31, 94.42, 95.95, 95.7, 95.32, 95.76, 95.74]\n"
     ]
    }
   ],
   "source": [
    "print(newerrorlist2)"
   ]
  },
  {
   "cell_type": "code",
   "execution_count": 32,
   "metadata": {},
   "outputs": [
    {
     "data": {
      "text/plain": [
       "[<matplotlib.lines.Line2D at 0x19a61d39550>]"
      ]
     },
     "execution_count": 32,
     "metadata": {},
     "output_type": "execute_result"
    },
    {
     "data": {
      "image/png": "[encoded data removed]",
      "text/plain": [
       "<Figure size 432x288 with 1 Axes>"
      ]
     },
     "metadata": {
      "needs_background": "light"
     },
     "output_type": "display_data"
    }
   ],
   "source": [
    "plt.plot(y,newerrorlist2)"
   ]
  },
  {
   "cell_type": "markdown",
   "metadata": {},
   "source": [
    "best accuracy = 95.95% L2 regularisation parameter value=0.001"
   ]
  },
  {
   "cell_type": "markdown",
   "metadata": {},
   "source": [
    "The optimum regularisation parameter is different in case of second model with different accuracy."
   ]
  },
  {
   "cell_type": "code",
   "execution_count": 34,
   "metadata": {},
   "outputs": [
    {
     "name": "stdout",
     "output_type": "stream",
     "text": [
      " Error Rate on Train set: 1.900000 %\n",
      "Accuracy on Test set when model is trained on the set size of  2000.00 : 90.00 %\n",
      " Error Rate on Train set: 1.425000 %\n",
      "Accuracy on Test set when model is trained on the set size of  4000.00 : 93.44 %\n",
      " Error Rate on Train set: 1.550000 %\n",
      "Accuracy on Test set when model is trained on the set size of  6000.00 : 93.89 %\n",
      " Error Rate on Train set: 1.812500 %\n",
      "Accuracy on Test set when model is trained on the set size of  8000.00 : 94.60 %\n",
      " Error Rate on Train set: 2.100000 %\n",
      "Accuracy on Test set when model is trained on the set size of  10000.00 : 94.49 %\n",
      " Error Rate on Train set: 2.955000 %\n",
      "Accuracy on Test set when model is trained on the set size of  20000.00 : 95.76 %\n",
      " Error Rate on Train set: 3.390000 %\n",
      "Accuracy on Test set when model is trained on the set size of  30000.00 : 95.79 %\n"
     ]
    }
   ],
   "source": [
    "Values = [2000,4000,6000,8000,10000,20000,30000]\n",
    "model3 = NN1()\n",
    "newerrorlist3=[]\n",
    "testloader1 = torch.utils.data.DataLoader( mnist_testset, batch_size=52, shuffle=False)\n",
    "for k in Values:\n",
    "    MNIST_trainset =  [ mnist_trainset[i] for i in range(0,k)]\n",
    "    trainloader1 = torch.utils.data.DataLoader( MNIST_trainset, batch_size=52, shuffle=False)\n",
    "    optimizer4 = optim.RMSprop(model3.parameters(), lr=0.001, weight_decay=0.001 )\n",
    "\n",
    "    for epoch in range(50):\n",
    "        current_loss = 0.0 \n",
    "        n_mini_batches = 0\n",
    "        correct2 = 0 \n",
    "        total2 = 0\n",
    "        for i, mini_batch in enumerate( trainloader1, 0 ):\n",
    "            images, labels = mini_batch\n",
    "            optimizer4.zero_grad()\n",
    "            outputs = model3(images)\n",
    "            loss = loss_function(outputs, labels )\n",
    "            loss.backward() \n",
    "            optimizer4.step()\n",
    "            n_mini_batches += 1 \n",
    "            _, predicted = torch.max( outputs, dim=1)\n",
    "            total2 += labels.size(0)  \n",
    "            correct2 += (predicted == labels).sum().item()\n",
    "            current_loss += loss.item()\n",
    " \n",
    "    print(' Error Rate on Train set: %f %%' %(100*(1-correct2/total2)))\n",
    "    test_total = 0\n",
    "    test_correct = 0\n",
    "    with torch.no_grad():  \n",
    "        for data in testloader1: \n",
    "            images1, labels1 = data\n",
    "            outputs = model3(images1)\n",
    "            _, predicted1 = torch.max( outputs, dim=1)\n",
    "            test_total += labels1.size(0)  \n",
    "            test_correct += (predicted1 == labels1).sum().item()\n",
    "    print( \"Accuracy on Test set when model is trained on the set size of  %.2f : %.2f %%\" %(k,100 * test_correct/test_total))\n",
    "    newerrorlist3.append(100 * test_correct/test_total)"
   ]
  },
  {
   "cell_type": "code",
   "execution_count": 35,
   "metadata": {},
   "outputs": [
    {
     "name": "stdout",
     "output_type": "stream",
     "text": [
      "[90.0, 93.44, 93.89, 94.6, 94.49, 95.76, 95.79]\n"
     ]
    }
   ],
   "source": [
    "print(newerrorlist3)"
   ]
  },
  {
   "cell_type": "code",
   "execution_count": 47,
   "metadata": {},
   "outputs": [],
   "source": [
    "xlog = np.log(Values)\n",
    "ylog = np.log(errorlist3)\n",
    "y1log = np.log(newerrorlist3)"
   ]
  },
  {
   "cell_type": "code",
   "execution_count": 48,
   "metadata": {},
   "outputs": [
    {
     "data": {
      "text/plain": [
       "Text(0.5, 1.0, 'Log-Log Plot')"
      ]
     },
     "execution_count": 48,
     "metadata": {},
     "output_type": "execute_result"
    },
    {
     "data": {
      "image/png": "[encoded data removed]",
      "text/plain": [
       "<Figure size 432x288 with 1 Axes>"
      ]
     },
     "metadata": {
      "needs_background": "light"
     },
     "output_type": "display_data"
    }
   ],
   "source": [
    "plt.plot(xlog, ylog,color='r')\n",
    "plt.plot(xlog,y1log,color='g')\n",
    "plt.xlabel('Log(Values)')\n",
    "plt.ylabel('Log(Error on Testing Set)')\n",
    "plt.title('Log-Log Plot')"
   ]
  },
  {
   "cell_type": "markdown",
   "metadata": {},
   "source": [
    "Yes, As expected there is more rapid reduction with my second model which is convolutional net.\n",
    "It is avoiding the problem of overfitting and provides good accuracy."
   ]
  },
  {
   "cell_type": "code",
   "execution_count": null,
   "metadata": {},
   "outputs": [],
   "source": []
  }
 ],
 "metadata": {
  "kernelspec": {
   "display_name": "Python 3 (ipykernel)",
   "language": "python",
   "name": "python3"
  },
  "language_info": {
   "codemirror_mode": {
    "name": "ipython",
    "version": 3
   },
   "file_extension": ".py",
   "mimetype": "text/x-python",
   "name": "python",
   "nbconvert_exporter": "python",
   "pygments_lexer": "ipython3",
   "version": "3.9.7"
  }
 },
 "nbformat": 4,
 "nbformat_minor": 4
}
